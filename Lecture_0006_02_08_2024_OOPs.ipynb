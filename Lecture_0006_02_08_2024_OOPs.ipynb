{
 "cells": [
  {
   "cell_type": "markdown",
   "metadata": {},
   "source": [
    "## Topic 7.1 : OOPS "
   ]
  },
  {
   "cell_type": "markdown",
   "metadata": {},
   "source": [
    "### Class are bule-print / Templeate for creating an objects"
   ]
  },
  {
   "cell_type": "code",
   "execution_count": null,
   "metadata": {},
   "outputs": [],
   "source": [
    "a = 5\n",
    "print(a,\"\\t\",type(a))"
   ]
  },
  {
   "cell_type": "code",
   "execution_count": null,
   "metadata": {},
   "outputs": [],
   "source": [
    "# How to define class \n",
    "class Car: # naming convertion --> UpperCameCase example :--> CarData\n",
    "    pass"
   ]
  },
  {
   "cell_type": "code",
   "execution_count": null,
   "metadata": {},
   "outputs": [],
   "source": [
    "#  How to create Instance / Objects\n",
    "c1 = Car()"
   ]
  },
  {
   "cell_type": "code",
   "execution_count": null,
   "metadata": {},
   "outputs": [],
   "source": [
    "print(type(c1))"
   ]
  },
  {
   "cell_type": "markdown",
   "metadata": {},
   "source": [
    "#### Why OOPS? \n",
    "There is main differenes if we used only function without OOPS it will length, Not Understable, Not easy to read . By default it make is Processes Oriented\n",
    "#### Project 1. Frount End 2. Back End 3. Data Pipaline"
   ]
  },
  {
   "cell_type": "code",
   "execution_count": null,
   "metadata": {},
   "outputs": [],
   "source": [
    "class Car:\n",
    "    def accelerate(self):\n",
    "        print(\"Car is accelerating.\")\n",
    "    "
   ]
  },
  {
   "cell_type": "code",
   "execution_count": null,
   "metadata": {},
   "outputs": [],
   "source": [
    "c1 = Car()\n",
    "id(c1)"
   ]
  },
  {
   "cell_type": "code",
   "execution_count": null,
   "metadata": {},
   "outputs": [],
   "source": [
    "# How to access method inside the class\n",
    "c1.accelerate()"
   ]
  },
  {
   "cell_type": "code",
   "execution_count": null,
   "metadata": {},
   "outputs": [],
   "source": [
    "c2 = Car()\n",
    "c2.accelerate()"
   ]
  },
  {
   "cell_type": "markdown",
   "metadata": {},
   "source": [
    "### self : ---> A variable that represent instance of the class using which you can access mehtod/function of class, also attriutes/data of the class. self makes sure that each object knows that the method is associated with it. in other words the method is refernced to that particular objects.\n",
    "### We can use also another word for self but best pratices we pass self"
   ]
  },
  {
   "cell_type": "code",
   "execution_count": null,
   "metadata": {},
   "outputs": [],
   "source": [
    "class Car:\n",
    "    def accelerate(self):\n",
    "        print(\"Car is accelerating\")\n",
    "    \n",
    "    def brake(self):\n",
    "        print(\"car is stopping\")\n",
    "    "
   ]
  },
  {
   "cell_type": "code",
   "execution_count": null,
   "metadata": {},
   "outputs": [],
   "source": [
    "c1 = Car()"
   ]
  },
  {
   "cell_type": "code",
   "execution_count": null,
   "metadata": {},
   "outputs": [],
   "source": [
    "c1.accelerate()"
   ]
  },
  {
   "cell_type": "code",
   "execution_count": null,
   "metadata": {},
   "outputs": [],
   "source": [
    "c1.brake()"
   ]
  },
  {
   "cell_type": "code",
   "execution_count": null,
   "metadata": {},
   "outputs": [],
   "source": [
    "class Bank:\n",
    "    amount = 1000\n",
    "    def deposite(prain,amount):\n",
    "        print(\"I am Depositing the money.\")\n",
    "    def withdraw(self,amount_withdraw):\n",
    "        print(\"I am trying to withdraw money\")"
   ]
  },
  {
   "cell_type": "code",
   "execution_count": null,
   "metadata": {},
   "outputs": [],
   "source": [
    "c1 = Bank()"
   ]
  },
  {
   "cell_type": "code",
   "execution_count": null,
   "metadata": {},
   "outputs": [],
   "source": [
    "# How to access attributes \n",
    "c1.amount"
   ]
  },
  {
   "cell_type": "code",
   "execution_count": null,
   "metadata": {},
   "outputs": [],
   "source": [
    "# it will throw error 1 arrgument is missing \n",
    "c1.deposite()"
   ]
  },
  {
   "cell_type": "code",
   "execution_count": null,
   "metadata": {},
   "outputs": [],
   "source": [
    "c1.deposite(12222)"
   ]
  },
  {
   "cell_type": "code",
   "execution_count": null,
   "metadata": {},
   "outputs": [],
   "source": [
    "c1.withdraw(98)"
   ]
  },
  {
   "cell_type": "code",
   "execution_count": null,
   "metadata": {},
   "outputs": [],
   "source": [
    "# extract odd and even numbers from a list\n",
    "class ListOps:\n",
    "    l = [1,2,3,4,5,6,7,8]\n",
    "    def extract_even(self,l):\n",
    "        return [i for i in l if i % 2 == 0]\n",
    "    def extract_odd(self,l):\n",
    "        return [i for i in l if i % 2 != 0]\n",
    "    "
   ]
  },
  {
   "cell_type": "code",
   "execution_count": null,
   "metadata": {},
   "outputs": [],
   "source": [
    "obj1 = ListOps()"
   ]
  },
  {
   "cell_type": "code",
   "execution_count": null,
   "metadata": {},
   "outputs": [],
   "source": [
    "obj1.l"
   ]
  },
  {
   "cell_type": "code",
   "execution_count": null,
   "metadata": {},
   "outputs": [],
   "source": [
    "# How to pass atributes in method which is already present in a class \n",
    "obj1.extract_even(obj1.l)"
   ]
  },
  {
   "cell_type": "code",
   "execution_count": null,
   "metadata": {},
   "outputs": [],
   "source": [
    "obj1.extract_even([11,22,33,44,55,66])"
   ]
  },
  {
   "cell_type": "code",
   "execution_count": null,
   "metadata": {},
   "outputs": [],
   "source": [
    "obj1.extract_odd(obj1.l)"
   ]
  },
  {
   "cell_type": "code",
   "execution_count": null,
   "metadata": {},
   "outputs": [],
   "source": [
    "obj1.extract_odd([99,88,77,66,55])"
   ]
  },
  {
   "cell_type": "markdown",
   "metadata": {},
   "source": [
    "### You want to take the attribute value of the class for each object differently\n",
    "####  But we direactly accessing value in class it wil be fix so every object of that class getting same value because it is fix"
   ]
  },
  {
   "cell_type": "code",
   "execution_count": null,
   "metadata": {},
   "outputs": [],
   "source": []
  },
  {
   "cell_type": "code",
   "execution_count": null,
   "metadata": {},
   "outputs": [],
   "source": [
    "# extract odd and even numbers from a list\n",
    "class ListOps:\n",
    "     # magic method / dunder method. inin means initialization  of varibale\n",
    "    def __init__(self,l):\n",
    "        self.l =l\n",
    "    def extract_even(self):\n",
    "        return [i for i in self.l if i % 2 == 0]\n",
    "    def extract_odd(self):\n",
    "        return [i for i in self.l if i % 2 != 0]\n",
    "    "
   ]
  },
  {
   "cell_type": "code",
   "execution_count": null,
   "metadata": {},
   "outputs": [],
   "source": [
    "obj1 = ListOps([111,222,333,444,555,666])"
   ]
  },
  {
   "cell_type": "code",
   "execution_count": null,
   "metadata": {},
   "outputs": [],
   "source": [
    "obj1.extract_even()"
   ]
  },
  {
   "cell_type": "code",
   "execution_count": null,
   "metadata": {},
   "outputs": [],
   "source": [
    "class Book:\n",
    "    def __init__(self,name,author,title):\n",
    "        self.name = name\n",
    "        self.author = author\n",
    "        self.title = title\n",
    "    def extract_details_name_title(self):\n",
    "        print(self.name,self.title)\n",
    "    def extract_details_name_author(self):\n",
    "        print(self.name,self.author)"
   ]
  },
  {
   "cell_type": "code",
   "execution_count": null,
   "metadata": {},
   "outputs": [],
   "source": [
    "student1 = Book(\"Ml\",\"Murphy\",\"Linear Regression\")\n",
    "student2 = Book(\"Statics\",\"Joss\",\"Descriptive Starts \")"
   ]
  },
  {
   "cell_type": "code",
   "execution_count": null,
   "metadata": {},
   "outputs": [],
   "source": [
    "student1.extract_details_name_author()"
   ]
  },
  {
   "cell_type": "code",
   "execution_count": null,
   "metadata": {},
   "outputs": [],
   "source": [
    "student1.extract_details_name_title()"
   ]
  },
  {
   "cell_type": "code",
   "execution_count": null,
   "metadata": {},
   "outputs": [],
   "source": [
    "student2.extract_details_name_author()"
   ]
  },
  {
   "cell_type": "code",
   "execution_count": null,
   "metadata": {},
   "outputs": [],
   "source": [
    "student2.extract_details_name_title()"
   ]
  },
  {
   "cell_type": "markdown",
   "metadata": {},
   "source": [
    "### Create Atm Class with Operation Withdraw, PIN Change, Balance cheak, Last Tranzation"
   ]
  },
  {
   "cell_type": "code",
   "execution_count": null,
   "metadata": {},
   "outputs": [],
   "source": [
    "main_database = {\"1001\":{\"name\":\"Pravinsingh Korekar\",\"password\":2003,\"amount\":1999990},\n",
    "            \"2002\":{\"name\":\"Priyanka Korekar\",\"password\":8008,\"amount\":1999990},\n",
    "            \"3003\":{\"name\":\"Jayshree Korekar\",\"password\":1001,\"amount\":1999990},\n",
    "            \"4004\":{\"name\":\"Arun Korekar\",\"password\":1234,\"amount\":1999990}}\n"
   ]
  },
  {
   "cell_type": "code",
   "execution_count": null,
   "metadata": {},
   "outputs": [],
   "source": [
    "class BankAtm:\n",
    "    # __init__ method take important personal info like id,name,password and database which already avilable for each bank\n",
    "    def __init__(self,id,name,password,database):\n",
    "        self.database = database\n",
    "        self.name = name\n",
    "        self.password = password\n",
    "        self.id = id\n",
    "        if self.database[self.id][\"name\"] == self.name and self.database[id][\"password\"]==self.password:\n",
    "            print(f\"User is Verified ! Thank You {self.name}\")\n",
    "            \n",
    "    def withdraw(self,amount):\n",
    "        if self.database[self.id][\"amount\"] >= amount:\n",
    "            print(f\"You take money {amount}\")\n",
    "            self.database[self.id][\"amount\"]= self.database[self.id][\"amount\"]-amount\n",
    "        else:\n",
    "            print(\"Amount is very high ! So Sorry Please. .... \")\n",
    "    def cheak_balance(self):\n",
    "        print(f\"You have money {self.database[self.id]['amount']}\")\n",
    "        \n"
   ]
  },
  {
   "cell_type": "code",
   "execution_count": null,
   "metadata": {},
   "outputs": [],
   "source": [
    "customer1 = BankAtm(\"1001\",\"Pravinsingh Korekar\",2003,main_database)\n",
    "customer1.cheak_balance()\n",
    "customer1.withdraw(299999)\n",
    "customer1.cheak_balance()"
   ]
  },
  {
   "cell_type": "markdown",
   "metadata": {},
   "source": [
    "### Create Few Book at least 5 book store data and generate bill with GST"
   ]
  },
  {
   "cell_type": "code",
   "execution_count": null,
   "metadata": {},
   "outputs": [],
   "source": [
    "# given customer data\n",
    "customer_data = {\"name\":\"Pravinsingh Korekare\",\"mobile_number\":\"12345 67890\", \"address\":\"At Tambewadi Ta Barshi\"}\n",
    "buying_items = {\"story_book\" : 2 ,\"magical_book\":3,\"notebook\":4,\"Python_book\":4}\n",
    "\n",
    "class Bill:\n",
    "    @classmethod\n",
    "    def get_data(self,buying_item,customer_data):\n",
    "        self.cus1 = customer_data\n",
    "        self.buy_items = buying_item\n",
    "    \n",
    "    @staticmethod\n",
    "    def generate_bill(buying_item):\n",
    "        print(f\"\"\"\n",
    "                \\t\\t  Pravin Shop\n",
    "              \n",
    "            owner : Pravinsingh Korear \\t\\t GST No. : 3234334            \n",
    "            Mobile Number : 8767135153\n",
    "            \n",
    "            Date & Time : {'23_12_2025'}\n",
    "            Name : {customer_data[\"name\"]}\n",
    "            Mobile Number : {customer_data[\"mobile_number\"]}\n",
    "            Address : {customer_data[\"address\"]}\n",
    "\n",
    "            \"\"\")\n",
    "        total_items, total_amount = 0,0\n",
    "        print(\"\\t    Items     \t\tNo. Of items\\t\\t\\tPrice\")\n",
    "        for i in buying_item:\n",
    "            print(f\"\\t    {i}     \\t\\t{buying_item[i]}\\t\\t\\t  {buying_item[i]*10}\")\n",
    "            total_items = total_items + buying_item[i]\n",
    "            total_amount = total_amount + buying_item[i]*10\n",
    "        \n",
    "        print(f\"\\t\\t\\t\\tTotal : {total_items}\\t   Total Amount : {total_amount}\")\n",
    "        print(\"\\n\\n\\t    Terms and Condition Applicable for each items or each bill \")\n",
    "\n",
    "# Bill.get_data(customer_data,buying_item)\n",
    "Bill.generate_bill(buying_items)\n"
   ]
  },
  {
   "cell_type": "code",
   "execution_count": null,
   "metadata": {},
   "outputs": [],
   "source": []
  },
  {
   "cell_type": "markdown",
   "metadata": {},
   "source": [
    "## Topic 7.2 : Inheritance & Abstraction"
   ]
  },
  {
   "cell_type": "markdown",
   "metadata": {},
   "source": [
    "### Inheriatance >> refers to process of child class receiving the properties of parent class\n",
    "### Single Inheritance >> When a derived class has only one parent class\n"
   ]
  },
  {
   "cell_type": "code",
   "execution_count": null,
   "metadata": {},
   "outputs": [],
   "source": [
    "# Single Inheritance\n",
    "class BaseClass:\n",
    "    # Body of Base Class\n",
    "    a = -23\n",
    "    def parent_class(self):\n",
    "        print(\"This is Parent Class\")\n",
    "class DerivedClass(BaseClass):\n",
    "    # Body of derived class \n",
    "    b =3232\n",
    "    def child_class(self):\n",
    "        print(\"This is child class\")\n",
    "    \n",
    "# Make instance of DerivedClass \n",
    "child1 = DerivedClass()\n",
    "\n",
    "child1.child_class()\n",
    "child1.parent_class()\n",
    "\n",
    "#  Make instace of BaseClass()\n",
    "parent1 = BaseClass()\n",
    "parent1.parent_class()\n",
    "\n",
    "# It will throw error\n",
    "parent1.child_class()\n",
    "\n"
   ]
  },
  {
   "cell_type": "markdown",
   "metadata": {},
   "source": [
    "#### Method overriding :\n",
    "Child class is very powerful<br>\n",
    "Method overrinding peform between two class"
   ]
  },
  {
   "cell_type": "code",
   "execution_count": null,
   "metadata": {},
   "outputs": [],
   "source": [
    "# Method Overrinding >> Rewritting mehods of parent class in derived class\n",
    "class Fruit:\n",
    "    def fruit_info(self):\n",
    "        print(\"Inside Parent Class\")\n",
    "class Apple(Fruit):\n",
    "    def fruit_info(self):\n",
    "        print(\"Inside the child class\")\n",
    "\n",
    "child1 = Apple()\n",
    "child1.fruit_info()\n",
    "# child1.fruit_info()"
   ]
  },
  {
   "cell_type": "markdown",
   "metadata": {},
   "source": [
    "### Multi-level Inheritance >> There is three or more classes one class in pure parent class and one is pure child class >>\n",
    "\n",
    "### Parent Class --> child 1 --> child 2"
   ]
  },
  {
   "cell_type": "code",
   "execution_count": null,
   "metadata": {},
   "outputs": [],
   "source": [
    "### multi level inheritace\n",
    "\n",
    "class GrandFather:\n",
    "    def prop_grand_father(self):\n",
    "        print(\"This is GrandFather Class\")\n",
    "\n",
    "class Father(GrandFather):\n",
    "    def prop_father(self):\n",
    "        print(\"This is Father Class.\")\n",
    "\n",
    "class Child(Father):\n",
    "    def prop_child(self):\n",
    "        print(\"This is child class\")\n",
    "\n",
    "child1 = Child()\n",
    "child1.prop_child()\n",
    "child1.prop_father()\n",
    "child1.prop_grand_father()\n",
    "\n",
    "father1 = Father()\n",
    "father1.prop_father()\n",
    "father1.prop_grand_father()\n",
    "\n"
   ]
  },
  {
   "cell_type": "code",
   "execution_count": null,
   "metadata": {},
   "outputs": [],
   "source": [
    "# Use case\n",
    "\n",
    "class Vehicle:\n",
    "    def vehicle_info(self):\n",
    "        print(\"inside the Vehicle Class\")\n",
    "\n",
    "class Car(Vehicle):\n",
    "    def car_info(self):\n",
    "        print(\"Inside the Car Class\")\n",
    "\n",
    "class SportsCar(Car):\n",
    "    def sports_car_info(self):\n",
    "        print(\"Inside sports Car\")\n",
    "\n",
    "sport_car1 = SportsCar()\n",
    "sport_car1.sports_car_info()\n",
    "sport_car1.car_info()\n",
    "sport_car1.vehicle_info()"
   ]
  },
  {
   "cell_type": "markdown",
   "metadata": {},
   "source": [
    "### Multiple Inheritace >> One Child class inherit the property of multiple parent class"
   ]
  },
  {
   "cell_type": "code",
   "execution_count": null,
   "metadata": {},
   "outputs": [],
   "source": [
    "class ParentClass1:\n",
    "    def method1(self):\n",
    "        print(\"Method 1 of parent class 1.\")\n",
    "class ParentClass2:\n",
    "    def method2(self):\n",
    "        print(\"Mthod 2 of parent 2. \")\n",
    "    \n",
    "class ChildClass(ParentClass1,ParentClass2):\n",
    "    def method(self):\n",
    "        print(\"Method of child class.\")\n",
    "\n",
    "child1 = ChildClass()\n",
    "child1.method()\n",
    "child1.method1()\n",
    "child1.method2()\n"
   ]
  },
  {
   "cell_type": "markdown",
   "metadata": {},
   "source": [
    "### Diamond Problem :-> It occurs when a class inherits fron 2 or more that 2 class >> This will lead to ambiguity in execution of method\n"
   ]
  },
  {
   "cell_type": "code",
   "execution_count": null,
   "metadata": {},
   "outputs": [],
   "source": [
    "\n",
    "### Diamond Problem :-> It occurs when a class inherits fron 2 or more that 2 class >> This will lead to ambiguity in execution of method\n",
    "\n",
    "# To remove diamond problem : Python uses Method Resolution Order(MRO) algorithn c3 Linearization\n",
    "# meaning that the class that is inherited first in the derived class that method will be called.\n",
    "class ParentClass1:\n",
    "    def method_par(self):\n",
    "        print(\"Method 1 of parent class 1.\")\n",
    "class ParentClass2:\n",
    "    def method_par(self):\n",
    "        print(\"Mthod 2 of parent 2. \")\n",
    "    \n",
    "class ChildClass(ParentClass2,ParentClass1):\n",
    "    def method(self):\n",
    "        print(\"Method of child class.\")\n",
    "\n",
    "child1 = ChildClass()\n",
    "child1.method()\n",
    "child1.method_par()\n",
    "child1.method_par()\n"
   ]
  },
  {
   "cell_type": "code",
   "execution_count": null,
   "metadata": {},
   "outputs": [],
   "source": [
    "class ParentClass1:\n",
    "    def method_par(self):\n",
    "        print(\"Method 1 of parent class 1.\")\n",
    "class ParentClass2:\n",
    "    def method_par(self):\n",
    "        print(\"Mthod 2 of parent 2. \")\n",
    "    \n",
    "class ChildClass(ParentClass1,ParentClass2):\n",
    "    def method(self):\n",
    "        print(\"Method of child class.\")\n",
    "\n",
    "child1 = ChildClass()\n",
    "child1.method()\n",
    "child1.method_par()\n",
    "child1.method_par()"
   ]
  },
  {
   "cell_type": "code",
   "execution_count": null,
   "metadata": {},
   "outputs": [],
   "source": [
    "# Diamond Problem\n",
    "# another example\n",
    "class A:\n",
    "    def method(self):\n",
    "        print(\"Method of Class A\")\n",
    "class B(A):\n",
    "    def method(self):\n",
    "        print(\"Method of Class B\")\n",
    "\n",
    "class C(A):\n",
    "    def method(self):\n",
    "        print(\"Method of Class C\")\n",
    "\n",
    "class D(C,B):\n",
    "    pass\n",
    "\n",
    "obj = D()\n",
    "obj.method()\n"
   ]
  },
  {
   "cell_type": "code",
   "execution_count": null,
   "metadata": {},
   "outputs": [],
   "source": [
    "### Hierarchical Inheritance : One Parent Class and Multiple Child Class"
   ]
  },
  {
   "cell_type": "code",
   "execution_count": 14,
   "metadata": {},
   "outputs": [
    {
     "name": "stdout",
     "output_type": "stream",
     "text": [
      "This is Vehicle.\n",
      "This is car info :  TATA\n",
      "This is Vehicle.\n",
      "Truck info  TATA\n"
     ]
    }
   ],
   "source": [
    "class Vehicle:\n",
    "    def info(self):\n",
    "        print(\"This is Vehicle.\")\n",
    "class Car(Vehicle):\n",
    "    def car_info(self,name):\n",
    "        print(\"This is car info : \",name)\n",
    "class Truck(Vehicle):\n",
    "    def truck_info(self,name):\n",
    "        print(\"Truck info \",name)\n",
    "    \n",
    "\n",
    "c1 = Car()\n",
    "c1.info()\n",
    "c1.car_info(\"TATA\")\n",
    "\n",
    "t1 = Truck()\n",
    "t1.info()\n",
    "t1.truck_info(\"TATA\")"
   ]
  },
  {
   "cell_type": "markdown",
   "metadata": {},
   "source": [
    "### Hybrid Inheritance >> multiple types or combination of different inheritance."
   ]
  },
  {
   "cell_type": "code",
   "execution_count": 15,
   "metadata": {},
   "outputs": [
    {
     "ename": "NameError",
     "evalue": "name 'SportsCar' is not defined",
     "output_type": "error",
     "traceback": [
      "\u001b[1;31m---------------------------------------------------------------------------\u001b[0m",
      "\u001b[1;31mNameError\u001b[0m                                 Traceback (most recent call last)",
      "Cell \u001b[1;32mIn[15], line 17\u001b[0m\n\u001b[0;32m     14\u001b[0m     \u001b[38;5;28;01mdef\u001b[39;00m \u001b[38;5;21msport_info\u001b[39m(\u001b[38;5;28mself\u001b[39m):\n\u001b[0;32m     15\u001b[0m         \u001b[38;5;28mprint\u001b[39m(\u001b[38;5;124m\"\u001b[39m\u001b[38;5;124mInside sports car class.\u001b[39m\u001b[38;5;124m\"\u001b[39m)\n\u001b[1;32m---> 17\u001b[0m obj1 \u001b[38;5;241m=\u001b[39m \u001b[43mSportsCar\u001b[49m()\n\u001b[0;32m     18\u001b[0m obj1\u001b[38;5;241m.\u001b[39mcar_info()\n\u001b[0;32m     19\u001b[0m obj1\u001b[38;5;241m.\u001b[39msports_car_info()\n",
      "\u001b[1;31mNameError\u001b[0m: name 'SportsCar' is not defined"
     ]
    }
   ],
   "source": [
    "class Vehicle:\n",
    "    def vehicle_info(self):\n",
    "        print(\"Inside the vehicle class.\")\n",
    "\n",
    "class Car(Vehicle):\n",
    "    def car_info(self):\n",
    "        print(\"Inside The Car Class\")\n",
    "\n",
    "class Truk(Vehicle):\n",
    "    def truck_info(self):\n",
    "        print(\"Inside truck info \",name)\n",
    "\n",
    "class SportsCars(Car,Vehicle):\n",
    "    def sport_info(self):\n",
    "        print(\"Inside sports car class.\")\n",
    "\n",
    "obj1 = SportsCar()\n",
    "obj1.car_info()\n",
    "obj1.sports_car_info()\n",
    "obj1.vehicle_info()"
   ]
  },
  {
   "cell_type": "markdown",
   "metadata": {},
   "source": [
    "## Topic 7.3 : Abstraction\n",
    "Concept of hiding complex implementation<br>\n",
    "Hiding unneeded detaitls and exposing the required.<br>\n",
    "Abstract class can not be instantiated(can not make object)<br>\n",
    "Abstract class should always be subclassed<br>\n",
    "Abstract Class may contain methods that are just declared and not implemented in abstract class itself, subclass are responsible for implementing these abstract methods\n"
   ]
  },
  {
   "cell_type": "code",
   "execution_count": null,
   "metadata": {},
   "outputs": [],
   "source": [
    "#Abstraction>>concept of hiding complex implementation\n",
    "#hiding unneeded details and exposing the required\n",
    "#abstract class can not be instantiated(can not make object) \n",
    "#abstract class should always be subclassed\n",
    "#abstract class  may contain methods that are just declared and not implemented in abstract class itself, subclass are responsible for implementing these abstract methods\n",
    "#if in inherited class a method is not present from abstract class it will not throw error"
   ]
  },
  {
   "cell_type": "markdown",
   "metadata": {},
   "source": [
    "### abstraction can be achieved using abstract class >> import abc"
   ]
  },
  {
   "cell_type": "code",
   "execution_count": 10,
   "metadata": {},
   "outputs": [],
   "source": [
    "import abc"
   ]
  },
  {
   "cell_type": "code",
   "execution_count": 22,
   "metadata": {},
   "outputs": [],
   "source": [
    "#use case\n",
    "#in any class at pwskills>>data science/ frontend/backend, the following three methods will be common\n",
    "class PwSkills:\n",
    "    \n",
    "    @abc.abstractmethod\n",
    "    def student_details(self):\n",
    "        print(\"THis Class PWSkills Method : -> student_details\")\n",
    "    \n",
    "    @abc.abstractmethod\n",
    "    def student_assignment(self):\n",
    "        print(\"THis Class PWSkills Method : -> student_assignment\")\n",
    "    \n",
    "    @abc.abstractmethod\n",
    "    def student_marks(self):\n",
    "        print(\"THis Class PWSkills Method : -> student_marks\")"
   ]
  },
  {
   "cell_type": "code",
   "execution_count": 23,
   "metadata": {},
   "outputs": [],
   "source": [
    "class DataScience(PwSkills):\n",
    "    def student_details(self):\n",
    "        return \"Data Science course details\"\n",
    "    def student_marks(self):\n",
    "        return \"give ds students marks\""
   ]
  },
  {
   "cell_type": "code",
   "execution_count": 24,
   "metadata": {},
   "outputs": [],
   "source": [
    "class WebDev(PwSkills):\n",
    "    def student_assignment(self):\n",
    "        return \"This will give web dev student assignment\"\n",
    "    def student_marks(self):\n",
    "        return \"webdev student marks\""
   ]
  },
  {
   "cell_type": "code",
   "execution_count": 25,
   "metadata": {},
   "outputs": [],
   "source": [
    "ds =  DataScience()"
   ]
  },
  {
   "cell_type": "code",
   "execution_count": 26,
   "metadata": {},
   "outputs": [
    {
     "name": "stdout",
     "output_type": "stream",
     "text": [
      "THis Class PWSkills Method : -> student_assignment\n"
     ]
    }
   ],
   "source": [
    "ds.student_assignment() #it will not throw any error even if any method is not define"
   ]
  },
  {
   "cell_type": "code",
   "execution_count": 27,
   "metadata": {},
   "outputs": [
    {
     "data": {
      "text/plain": [
       "'Data Science course details'"
      ]
     },
     "execution_count": 27,
     "metadata": {},
     "output_type": "execute_result"
    }
   ],
   "source": [
    "ds.student_details()"
   ]
  },
  {
   "cell_type": "code",
   "execution_count": 28,
   "metadata": {},
   "outputs": [
    {
     "data": {
      "text/plain": [
       "'This will give web dev student assignment'"
      ]
     },
     "execution_count": 28,
     "metadata": {},
     "output_type": "execute_result"
    }
   ],
   "source": [
    "w = WebDev()\n",
    "w.student_assignment()"
   ]
  },
  {
   "cell_type": "code",
   "execution_count": 29,
   "metadata": {},
   "outputs": [
    {
     "data": {
      "text/plain": [
       "'webdev student marks'"
      ]
     },
     "execution_count": 29,
     "metadata": {},
     "output_type": "execute_result"
    }
   ],
   "source": [
    "w.student_marks()"
   ]
  },
  {
   "cell_type": "code",
   "execution_count": 19,
   "metadata": {},
   "outputs": [],
   "source": [
    "#use case\n",
    "class Shape:\n",
    "    \n",
    "    @abc.abstractmethod\n",
    "    def calculate_area(self):\n",
    "        pass\n",
    "class Rectangle(Shape):\n",
    "    def calculate_area(self):\n",
    "        return \"Area of rectange is len*breadth\"\n",
    "class Circle(Shape):\n",
    "    def calculate_area(self):\n",
    "        return \"area of circle is pi r **2\""
   ]
  },
  {
   "cell_type": "code",
   "execution_count": 20,
   "metadata": {},
   "outputs": [
    {
     "data": {
      "text/plain": [
       "'Area of rectange is len*breadth'"
      ]
     },
     "execution_count": 20,
     "metadata": {},
     "output_type": "execute_result"
    }
   ],
   "source": [
    "rect = Rectangle()\n",
    "rect.calculate_area()"
   ]
  },
  {
   "cell_type": "code",
   "execution_count": 21,
   "metadata": {},
   "outputs": [
    {
     "data": {
      "text/plain": [
       "'area of circle is pi r **2'"
      ]
     },
     "execution_count": 21,
     "metadata": {},
     "output_type": "execute_result"
    }
   ],
   "source": [
    "c = Circle()\n",
    "c.calculate_area()"
   ]
  },
  {
   "cell_type": "markdown",
   "metadata": {},
   "source": [
    "## Topic 7.4 : Polymorphism  "
   ]
  },
  {
   "cell_type": "markdown",
   "metadata": {},
   "source": [
    "### Polymorphism : poly means many morphism means forms/states.\n",
    "### Polymorphism : refers to an object taking several forms depending on the methods / data"
   ]
  },
  {
   "cell_type": "code",
   "execution_count": null,
   "metadata": {},
   "outputs": [],
   "source": [
    "len(\"privan\")"
   ]
  },
  {
   "cell_type": "code",
   "execution_count": null,
   "metadata": {},
   "outputs": [],
   "source": [
    "len([1,2,3,4,5,6])"
   ]
  },
  {
   "cell_type": "code",
   "execution_count": null,
   "metadata": {},
   "outputs": [],
   "source": [
    "len((1,2,3,4,5,6))"
   ]
  },
  {
   "cell_type": "code",
   "execution_count": null,
   "metadata": {},
   "outputs": [],
   "source": [
    "def fun(a,b):\n",
    "    return a+b"
   ]
  },
  {
   "cell_type": "code",
   "execution_count": null,
   "metadata": {},
   "outputs": [],
   "source": [
    "# addtion of 2 number\n",
    "fun(2,4)\n",
    "\n",
    "# concation of 2 string\n",
    "fun(\"Pravin \",\"Korekar\")\n",
    "\n",
    "# concation of 2 list\n",
    "fun([1,2,3],[4,5,6])\n",
    "\n",
    "# concation of 2 tuple\n",
    "fun((1,2,3),(4,5,6,8,9))\n",
    "\n",
    "### Observation : func is taking different forms with respect to different data passed"
   ]
  },
  {
   "cell_type": "markdown",
   "metadata": {},
   "source": [
    "#### Important Example"
   ]
  },
  {
   "cell_type": "code",
   "execution_count": null,
   "metadata": {},
   "outputs": [],
   "source": [
    "class TeactherLecture:\n",
    "    def lec_info(self):\n",
    "        print(\"This is lec info with teacher perspective.\")\n",
    "\n",
    "class StudentLecture:\n",
    "    def lec_info(self):\n",
    "        print(\"This is lec info with student perspective.\")"
   ]
  },
  {
   "cell_type": "code",
   "execution_count": null,
   "metadata": {},
   "outputs": [],
   "source": [
    "obj1 = TeactherLecture()\n",
    "obj2 = StudentLecture()\n",
    "\n",
    "class_obj = [obj1, obj2]\n",
    "class_obj"
   ]
  },
  {
   "cell_type": "code",
   "execution_count": null,
   "metadata": {},
   "outputs": [],
   "source": [
    "def parcer(class_obj):\n",
    "    for i in class_obj:\n",
    "        i.lec_info()"
   ]
  },
  {
   "cell_type": "code",
   "execution_count": null,
   "metadata": {},
   "outputs": [],
   "source": [
    "parcer(class_obj)"
   ]
  },
  {
   "cell_type": "markdown",
   "metadata": {},
   "source": [
    "### Polymorphism in OOPs takes place in two ways:\n",
    "#### 1. Method Overrinding\n",
    "#### 2. Method OverLoading : Python does not support true method overloading"
   ]
  },
  {
   "cell_type": "markdown",
   "metadata": {},
   "source": [
    "### Method Overloading : <br> Method Overloading means In one class two or more method having same name but diffent parameter this conpect is Method Overloading<br><br>OR<br> In this case  Student method is taking different forms, The last method overloas the precious one in the same class<br> Method Overloading occure in same class"
   ]
  },
  {
   "cell_type": "code",
   "execution_count": null,
   "metadata": {},
   "outputs": [],
   "source": [
    "class Student:\n",
    "    def student(self):\n",
    "        print(\"Welcome to pwskills class\")\n",
    "    def student(self,name=\"\"):\n",
    "        print(\"Welcome to pwskill class\",name)\n",
    "    def student(self,name=\"\",course=\"\"):\n",
    "        print(\"Welcome to PWSkill class\",name,course)\n",
    "\n"
   ]
  },
  {
   "cell_type": "code",
   "execution_count": null,
   "metadata": {},
   "outputs": [],
   "source": [
    "student = Student()\n",
    "student.student()\n",
    "student.student(\"Pravin\")\n",
    "student.student(\"Pravin\",\"DS\")\n"
   ]
  },
  {
   "cell_type": "markdown",
   "metadata": {},
   "source": [
    "##### Refere above code and below code difference"
   ]
  },
  {
   "cell_type": "code",
   "execution_count": null,
   "metadata": {},
   "outputs": [],
   "source": [
    "class Student1:\n",
    "    def student(self,name=\"\",course=\"\"):\n",
    "        print(\"Welcome to PWSkill class\",name,course)"
   ]
  },
  {
   "cell_type": "code",
   "execution_count": null,
   "metadata": {},
   "outputs": [],
   "source": [
    "student = Student1()\n",
    "student.student()\n",
    "student.student(\"Pravin\")\n",
    "student.student(\"Pravin\",\"DS\")"
   ]
  },
  {
   "cell_type": "markdown",
   "metadata": {},
   "source": [
    "### Method Overloading\n",
    "#### Method Overloading : Method in parent class and child class with same signature <br>then child class method will be executed"
   ]
  },
  {
   "cell_type": "code",
   "execution_count": 65,
   "metadata": {},
   "outputs": [],
   "source": [
    "class Animal():\n",
    "    def sound(self):\n",
    "        print(\"Animal Sound\")\n",
    "\n",
    "class Car(Animal):\n",
    "    def sound(self):\n",
    "        print(\"Cat meows.\")\n"
   ]
  },
  {
   "cell_type": "code",
   "execution_count": 66,
   "metadata": {},
   "outputs": [
    {
     "name": "stdout",
     "output_type": "stream",
     "text": [
      "Cat meows.\n"
     ]
    }
   ],
   "source": [
    "cat = Car()\n",
    "cat.sound()"
   ]
  },
  {
   "cell_type": "markdown",
   "metadata": {},
   "source": [
    "## Topic 7.5 : Encapsulation "
   ]
  },
  {
   "cell_type": "markdown",
   "metadata": {},
   "source": [
    "#### Encapsulation : It means hiding something and bundling of data and method of a class\n"
   ]
  },
  {
   "cell_type": "markdown",
   "metadata": {},
   "source": [
    "### Access Modifiers : 1. Public, 2. Protected, 3. Private"
   ]
  },
  {
   "cell_type": "markdown",
   "metadata": {},
   "source": [
    "### Public"
   ]
  },
  {
   "cell_type": "code",
   "execution_count": null,
   "metadata": {},
   "outputs": [],
   "source": [
    "# This is all data in public from\n",
    "class Student:\n",
    "    def __init__(self, name, degree):\n",
    "        self.name = name\n",
    "        self.degree = degree\n",
    "    def data(self):\n",
    "        print(f\"Name : {self.name} Degree : {self.degree} \")\n"
   ]
  },
  {
   "cell_type": "code",
   "execution_count": null,
   "metadata": {},
   "outputs": [],
   "source": [
    "stud = Student(\"Pravin\",\"B-Tech\")\n",
    "stud.data()"
   ]
  },
  {
   "cell_type": "code",
   "execution_count": null,
   "metadata": {},
   "outputs": [],
   "source": [
    "stud1 = Student(\"Priyanka\",\"Master\")\n",
    "stud1.data()"
   ]
  },
  {
   "cell_type": "markdown",
   "metadata": {},
   "source": [
    "### Private : The data and method is only accessible within its class use __ that make private"
   ]
  },
  {
   "cell_type": "code",
   "execution_count": null,
   "metadata": {},
   "outputs": [],
   "source": [
    "# This is all data in Private from\n",
    "class Student1:\n",
    "    def __init__(self, name, degree):\n",
    "        self.name = name\n",
    "        self.__degree = degree\n",
    "    def data(self):\n",
    "        # Accesing the Private data member\n",
    "        print(f\"Name : {self.name} Degree : {self.__degree} \")\n",
    "\n",
    "    # This is Private Method \n",
    "    def __private_method(self):\n",
    "        print(\"This is a Private method\")\n"
   ]
  },
  {
   "cell_type": "markdown",
   "metadata": {},
   "source": [
    "#### "
   ]
  },
  {
   "cell_type": "code",
   "execution_count": null,
   "metadata": {},
   "outputs": [],
   "source": [
    "stud = Student1(\"Pravin\",\"B-tech\")\n",
    "stud.data()"
   ]
  },
  {
   "cell_type": "code",
   "execution_count": null,
   "metadata": {},
   "outputs": [],
   "source": [
    "stud.name"
   ]
  },
  {
   "cell_type": "code",
   "execution_count": null,
   "metadata": {},
   "outputs": [],
   "source": [
    "#  Not acceable because it is private\n",
    "stud.degree "
   ]
  },
  {
   "cell_type": "code",
   "execution_count": null,
   "metadata": {},
   "outputs": [],
   "source": [
    "# Creat new class attributues\n",
    "stud.degree = 20"
   ]
  },
  {
   "cell_type": "code",
   "execution_count": null,
   "metadata": {},
   "outputs": [],
   "source": [
    "stud.degree"
   ]
  },
  {
   "cell_type": "code",
   "execution_count": null,
   "metadata": {},
   "outputs": [],
   "source": [
    "stud.data()"
   ]
  },
  {
   "cell_type": "markdown",
   "metadata": {},
   "source": [
    "#### How to access the private method "
   ]
  },
  {
   "cell_type": "code",
   "execution_count": null,
   "metadata": {},
   "outputs": [],
   "source": [
    "# Accessing the Private method\n",
    "stud._Student1__private_method()\n",
    "\n",
    "# Accessing Private Variable\n",
    "stud._Student1__degree"
   ]
  },
  {
   "cell_type": "code",
   "execution_count": null,
   "metadata": {},
   "outputs": [],
   "source": [
    "# This is all data in Private from\n",
    "class Student1:\n",
    "    def __init__(self, name, degree):\n",
    "        self.name = name\n",
    "        self.__degree = degree\n",
    "    def data(self):\n",
    "        # Accesing the Private data member\n",
    "        print(f\"Name : {self.name} Degree : {self.__degree} \")\n",
    "\n",
    "    # This is Private Method \n",
    "    def __private_method(self):\n",
    "        print(\"This is a Private method\")\n",
    "    def access_private_method(self):\n",
    "        self.__private_method()"
   ]
  },
  {
   "cell_type": "code",
   "execution_count": null,
   "metadata": {},
   "outputs": [],
   "source": [
    "access_private_method = Student1(\"Pravin\",\"B-Tech\")\n",
    "access_private_method.access_private_method()"
   ]
  },
  {
   "cell_type": "markdown",
   "metadata": {},
   "source": [
    "### Problem"
   ]
  },
  {
   "cell_type": "code",
   "execution_count": null,
   "metadata": {},
   "outputs": [],
   "source": [
    "# How to Python work for that problem\n",
    "class A:\n",
    "    def __init__(self,name,degree):\n",
    "        self.__name = name\n",
    "        self.__degree = degree\n",
    "\n",
    "    def data(self):\n",
    "        print(f\"Name : {self.__name}    Degree : {self.__degree}\")\n",
    "\n",
    "obj = A(\"Pravin\",\"B-Tech\")\n",
    "obj.data()\n",
    "\n",
    "\n",
    "obj.__name = \"Suraj\"\n",
    "obj.name = \"Priyanka\"\n",
    "\n",
    "obj.data()\n",
    "\n",
    "obj.__name,obj.name\n",
    "\n",
    "## Que : How this code work ? How Outside class __name and name act in the class its public or private"
   ]
  },
  {
   "cell_type": "code",
   "execution_count": null,
   "metadata": {},
   "outputs": [],
   "source": [
    "obj = A(\"Pravin\",\"B-Tech\")"
   ]
  },
  {
   "cell_type": "code",
   "execution_count": null,
   "metadata": {},
   "outputs": [],
   "source": [
    "obj.data()"
   ]
  },
  {
   "cell_type": "code",
   "execution_count": null,
   "metadata": {},
   "outputs": [],
   "source": [
    "## another Use Case\n",
    "class Car:\n",
    "    def __init__(self,year,make,speed,model):\n",
    "        self.__year = year\n",
    "        self.__make = make\n",
    "        self.__speed = speed\n",
    "        self.model = model\n",
    "\n",
    "car = Car(1995, \"Maruti\",80,\"Brezza\")"
   ]
  },
  {
   "cell_type": "code",
   "execution_count": null,
   "metadata": {},
   "outputs": [],
   "source": [
    "## another Use Case\n",
    "class Car1:\n",
    "    def __init__(self,year,make,speed,model):\n",
    "        self.__year = year\n",
    "        self.__make = make\n",
    "        self.__speed = speed\n",
    "        self.model = model\n",
    "    def set_speed(self,speed):\n",
    "        self.__speed = 0 if speed < 0 else speed\n",
    "    \n",
    "    def get_speed(self):\n",
    "        return self.__speed"
   ]
  },
  {
   "cell_type": "code",
   "execution_count": null,
   "metadata": {},
   "outputs": [],
   "source": [
    "car1 = Car1(1995, \"Maruti\",2324,\"Brezza\")"
   ]
  },
  {
   "cell_type": "code",
   "execution_count": null,
   "metadata": {},
   "outputs": [],
   "source": [
    "car1.set_speed(-34543)"
   ]
  },
  {
   "cell_type": "code",
   "execution_count": null,
   "metadata": {},
   "outputs": [],
   "source": [
    "car1.get_speed()"
   ]
  },
  {
   "cell_type": "markdown",
   "metadata": {},
   "source": [
    "### Protected : It will access within the class and its subclass, proteccted member can be acces(_)"
   ]
  },
  {
   "cell_type": "code",
   "execution_count": null,
   "metadata": {},
   "outputs": [],
   "source": [
    "class Collage:\n",
    "    def __init__(self):\n",
    "        self._collage_name = \"PW Skill\"\n",
    "\n",
    "class Student(Collage):\n",
    "    def __init__(self,name):\n",
    "        self.name = name\n",
    "\n",
    "        # Accessing __init__ method in parent class\n",
    "        Collage.__init__(self) ## Accesing variable of base class>> classname__init__(self)\n",
    "    def show(self):\n",
    "        print(\"name \",self.name,\" Collage \",self._collage_name)"
   ]
  },
  {
   "cell_type": "code",
   "execution_count": null,
   "metadata": {},
   "outputs": [],
   "source": [
    "stud = Student(\"Pravin\")"
   ]
  },
  {
   "cell_type": "code",
   "execution_count": null,
   "metadata": {},
   "outputs": [],
   "source": [
    "stud.show()"
   ]
  },
  {
   "cell_type": "code",
   "execution_count": null,
   "metadata": {},
   "outputs": [],
   "source": [
    "coll = Collage()\n",
    "\n",
    "# Access the procted collage name\n",
    "coll._collage_name"
   ]
  },
  {
   "cell_type": "markdown",
   "metadata": {},
   "source": [
    "### Anouther way to access the data of base class using super() class\n",
    "\n",
    "#### super().method_name() --> don't write self inside method "
   ]
  },
  {
   "cell_type": "code",
   "execution_count": 16,
   "metadata": {},
   "outputs": [],
   "source": [
    "class Collage:\n",
    "    def __init__(self):\n",
    "        self._collage_name = \"PW Skill\"\n",
    "\n",
    "class Student1(Collage):\n",
    "    def __init__(self,name):\n",
    "        self.name = name\n",
    "        super().__init__() ## Accesing variable of base class>> classname__init__(self)\n",
    "    def show(self):\n",
    "        print(\"name \",self.name,\" Collage \",self._collage_name)"
   ]
  },
  {
   "cell_type": "code",
   "execution_count": 17,
   "metadata": {},
   "outputs": [
    {
     "name": "stdout",
     "output_type": "stream",
     "text": [
      "name  Pravin  Collage  PW Skill\n"
     ]
    }
   ],
   "source": [
    "stud = Student1(\"Pravin\")\n",
    "stud.show()"
   ]
  },
  {
   "cell_type": "markdown",
   "metadata": {},
   "source": [
    "## Topic 7.6 : Class And Static Method"
   ]
  },
  {
   "cell_type": "markdown",
   "metadata": {},
   "source": [
    "### Class Method :\n",
    "##### It is bound to the class (and not to a particular instance of the class accross all instacne) <br> Access/ Modify method and attributes associated to the class <br> Class method defined at the @classmethod decorater <br> Instead of self we directly use cls. <br> cls as first parmeter"
   ]
  },
  {
   "cell_type": "code",
   "execution_count": null,
   "metadata": {},
   "outputs": [],
   "source": [
    "class Student:\n",
    "    # constructor : Constructing class with initialisation of variable of variables/ data.\n",
    "    def __init__(self, name):\n",
    "        self.name = name\n",
    "\n",
    "obj = Student(\"Pravin\")\n",
    "obj.name"
   ]
  },
  {
   "cell_type": "code",
   "execution_count": null,
   "metadata": {},
   "outputs": [],
   "source": [
    "## Example of class_method()\n",
    "class Student1:\n",
    "    # constructor : Constructing class with initialisation of variable of variables/ data.\n",
    "    def __init__(self, name):\n",
    "        self.name = name        # self means this variable / method is refererring to current instance of class\n",
    "    @classmethod # Bound / binds to the class\n",
    "    def student_details(cls,name1): # instead of self as first parameter, you are using cls >> meaning this method is associated referring to the class instance\n",
    "        return cls(name1),\n"
   ]
  },
  {
   "cell_type": "markdown",
   "metadata": {},
   "source": [
    "### What is the meaning that it is referring the class :\n",
    "####  Earlier to access any method / attribute >> first make instance / object of class \n",
    "#### then obj.attribute\n",
    "#### but if it is class method you can directly access it, we don't need to create the class objects\n",
    "#### class_name.method\n",
    "#### Aternative of _ __init__() _ method"
   ]
  },
  {
   "cell_type": "code",
   "execution_count": null,
   "metadata": {},
   "outputs": [],
   "source": [
    "## Example of class_method()\n",
    "class Student1:\n",
    "    # constructor : Constructing class with initialisation of variable of variables/ data.\n",
    "    def __init__(self, name):\n",
    "        self.name = name        # self means this variable / method is refererring to current instance of class\n",
    "    @classmethod # Bound / binds to the class\n",
    "    def student_details(cls,name1): # instead of self as first parameter, you are using cls >> meaning this method is associated referring to the class instance\n",
    "        return cls(name1)"
   ]
  },
  {
   "cell_type": "code",
   "execution_count": null,
   "metadata": {},
   "outputs": [],
   "source": [
    "#  ClassName.class_method_name\n",
    "Student1.student_details(\"Prain\")"
   ]
  },
  {
   "cell_type": "code",
   "execution_count": null,
   "metadata": {},
   "outputs": [],
   "source": [
    "#  How class method is oberloading the init method?\n",
    "# Modifying the instacne of method\n",
    "\n",
    "class Student:\n",
    "    def __init__(self,name):\n",
    "        self.name = name\n",
    "    \n",
    "    @classmethod\n",
    "    def student_details(cls,name1):\n",
    "        return cls(name1)"
   ]
  },
  {
   "cell_type": "code",
   "execution_count": null,
   "metadata": {},
   "outputs": [],
   "source": [
    "stud = Student.student_details(\"Pravin\")"
   ]
  },
  {
   "cell_type": "code",
   "execution_count": null,
   "metadata": {},
   "outputs": [],
   "source": [
    "stud.name\n",
    "# but see in stud it will store student_details() class_method but this class does not have the parameter name it has parameter name1 so it will return output by using another class instance which present inside the __init__()  method that ::--> class_method overloading the __init__() method\n",
    "# There for we say that init method has alternative method that is class method"
   ]
  },
  {
   "cell_type": "code",
   "execution_count": null,
   "metadata": {},
   "outputs": [],
   "source": [
    "### class method can modify class state applicable to all the instances of the class \n",
    "#### --> IN short class variable and class method can modify by instance mehtod(__init__())\n",
    "\n",
    "class Student:\n",
    "    # class variable --> it will changable \n",
    "    total_student = 0\n",
    "\n",
    "    def __init__(self,name): # instance method\n",
    "        self.name = name\n",
    "\n",
    "        #  total_student is the class variable associated with all the instance of class\n",
    "        Student.total_student += 1 \n",
    "    \n",
    "    @classmethod\n",
    "    def get_total_student(cls):\n",
    "        return cls.total_student\n"
   ]
  },
  {
   "cell_type": "code",
   "execution_count": null,
   "metadata": {},
   "outputs": [],
   "source": [
    "print(Student.total_student)\n",
    "\n",
    "s1 = Student(\"Pravin\")\n",
    "s2 = Student(\"Priyanka\")\n",
    "\n",
    "print(s1.name,s2.name)\n",
    "\n",
    "# call class instance/variable\n",
    "print(Student.total_student)\n",
    "\n",
    "#  call class method \n",
    "print(Student.get_total_student())\n"
   ]
  },
  {
   "cell_type": "markdown",
   "metadata": {},
   "source": [
    "### To make external function as class method"
   ]
  },
  {
   "cell_type": "code",
   "execution_count": null,
   "metadata": {},
   "outputs": [],
   "source": [
    "class Student:\n",
    "    # class variable --> it will changable \n",
    "    total_student = 0\n",
    "\n",
    "    def __init__(self,name): # instance method\n",
    "        self.name = name\n",
    "\n",
    "        #  total_student is the class variable associated with all the instance of class\n",
    "        Student.total_student += 1 \n",
    "    \n",
    "    @classmethod\n",
    "    def get_total_student(cls):\n",
    "        return cls.total_student\n"
   ]
  },
  {
   "cell_type": "code",
   "execution_count": null,
   "metadata": {},
   "outputs": [],
   "source": [
    "def course_details(cls,course_name):\n",
    "    print(\"The details of the course are : \",course_name)"
   ]
  },
  {
   "cell_type": "code",
   "execution_count": null,
   "metadata": {},
   "outputs": [],
   "source": [
    "# adding external function as class method in the class\n",
    "Student.course_details = classmethod(course_details)"
   ]
  },
  {
   "cell_type": "code",
   "execution_count": null,
   "metadata": {},
   "outputs": [],
   "source": [
    "Student.course_details(\"Data Science\")"
   ]
  },
  {
   "cell_type": "code",
   "execution_count": null,
   "metadata": {},
   "outputs": [],
   "source": [
    "# deleting the class method\n",
    "del Student.course_details\n",
    "\n",
    "# another way to deleting class method \n",
    "delattr(Student,\"get_total_student\")"
   ]
  },
  {
   "cell_type": "code",
   "execution_count": null,
   "metadata": {},
   "outputs": [],
   "source": [
    "#  This will throw error beacuse we already deleted\n",
    "Student.get_total_student()"
   ]
  },
  {
   "cell_type": "code",
   "execution_count": null,
   "metadata": {},
   "outputs": [],
   "source": [
    "#  This will throw error beacuse we already deleted\n",
    "Student.course_details(\"Data Science\")"
   ]
  },
  {
   "cell_type": "code",
   "execution_count": null,
   "metadata": {},
   "outputs": [],
   "source": [
    " "
   ]
  },
  {
   "cell_type": "markdown",
   "metadata": {},
   "source": [
    "## Topic 7.7 Static Method \n",
    "#### Does not modeify class or instance state\n",
    "#### Doesn't access instace or class state\n",
    "#### It does't depend on class/instance\n",
    "#### it behaves like a plain function that belong to class\n",
    "#### it doesn't take either self or cls\n",
    "#### @static method is used\n",
    "####  it work on directly parameter which is passed\n",
    "#### It access by  : - > class_name.static_method()"
   ]
  },
  {
   "cell_type": "code",
   "execution_count": null,
   "metadata": {},
   "outputs": [],
   "source": [
    "class Calcultor:\n",
    "\n",
    "    @staticmethod\n",
    "    def add(x,y):\n",
    "        return x+y\n",
    "    \n",
    "    @staticmethod\n",
    "    def sub(x,y):\n",
    "        return x-y"
   ]
  },
  {
   "cell_type": "code",
   "execution_count": null,
   "metadata": {},
   "outputs": [],
   "source": [
    "Calcultor.add(3,9)"
   ]
  },
  {
   "cell_type": "code",
   "execution_count": null,
   "metadata": {},
   "outputs": [],
   "source": [
    "Calcultor.sub(3,9)"
   ]
  },
  {
   "cell_type": "markdown",
   "metadata": {},
   "source": [
    "## Topic 7.8 : Dunder Methods / Magic / Special Methods are the methods defined by built-in  classess in Python\n",
    "### Classes define these types of methods for creating custom objects <br> In another word for init it means Data for every object\n",
    "### Implementing operator overloading in python\n",
    "#### Logic of Dunder : -> d + under <br> meaning double underscore >> all the methods surrounding double underscore is a dunder method."
   ]
  },
  {
   "cell_type": "code",
   "execution_count": null,
   "metadata": {},
   "outputs": [],
   "source": [
    "# print is a keyword / inbuild function.\n",
    "print(\"Hello Sir\") "
   ]
  },
  {
   "cell_type": "code",
   "execution_count": null,
   "metadata": {},
   "outputs": [],
   "source": [
    "# Example Of Dunder Method :\n",
    "a,b = 3,6\n",
    "\n",
    "a.__xor__(b)\n",
    "# Here __xor__() is Dunder Method\n",
    "\n",
    "a.__add__(b)\n",
    "# Here __add__() is Dunder Method "
   ]
  },
  {
   "cell_type": "code",
   "execution_count": null,
   "metadata": {},
   "outputs": [],
   "source": [
    "# all Dunder method accoated with objects\n",
    "print(dir(object))\n",
    "\n",
    "#all dunder methods associated with strings\n",
    "print(dir(str))\n",
    "\n",
    "# all dunder method associated with int\n",
    "print(dir(int))"
   ]
  },
  {
   "cell_type": "markdown",
   "metadata": {},
   "source": [
    "#### Some Useful Dunder Methods"
   ]
  },
  {
   "cell_type": "code",
   "execution_count": null,
   "metadata": {},
   "outputs": [],
   "source": [
    "## 1 __init__() used to initialize the newly created instance / objects ::In another word It sets up any intial state /property of the objects\n",
    "class Student:\n",
    "    def __init__(self):\n",
    "        print(\"THis is the first thingh that will be executed when you make instance / object will created.\")\n",
    "Student()"
   ]
  },
  {
   "cell_type": "code",
   "execution_count": null,
   "metadata": {},
   "outputs": [],
   "source": [
    "## 2 : __new__() is responsible for creating a new instance of the class.\n",
    "class Student1:\n",
    "    def __init__(self):\n",
    "        print(\"THis is the first thingh that will be executed when you make instance / object will created.\")\n",
    "    def __new__(cls):\n",
    "        print(\"This will be executed even before init\")\n",
    "\n",
    "Student1()"
   ]
  },
  {
   "cell_type": "code",
   "execution_count": null,
   "metadata": {},
   "outputs": [],
   "source": [
    "## 3.1 __str__()\n",
    "class Student2:\n",
    "    def __init__(self):\n",
    "        self.phone = 99999999\n",
    "\n",
    "# It return Hexadecimal Representation of memory of Student object\n",
    "print(Student2())"
   ]
  },
  {
   "cell_type": "code",
   "execution_count": null,
   "metadata": {},
   "outputs": [],
   "source": [
    "## 3.2 __str__() It will return a string representation of object\n",
    "\n",
    "class Student2:\n",
    "    def __init__(self):\n",
    "        self.phone = 9999999\n",
    "    def __str__(self):\n",
    "        return \"This Method overloads the print statement of objects method.\"\n",
    "\n",
    "print(Student2())\n",
    "Student2"
   ]
  },
  {
   "cell_type": "code",
   "execution_count": null,
   "metadata": {},
   "outputs": [],
   "source": [
    "## 4 __repr__() >> meaning reprsentation \n",
    "# It is doing similar which __str__() can do\n",
    "# it returns unambiguours string reprsentation of the object as it it is that can be used recreate the objects\n",
    "\n",
    "class MyClass:\n",
    "    def __init__(self,x):\n",
    "        self.x = x\n",
    "    def __repr__(self):\n",
    "        return f\"MyClass({self.x})\"\n",
    "\n",
    "obj = MyClass(3)\n",
    "print(repr(obj))\n",
    "repr(obj)"
   ]
  },
  {
   "cell_type": "code",
   "execution_count": null,
   "metadata": {},
   "outputs": [],
   "source": [
    "## 5.1 __eq__()  it is use for comparing 2 quridinate\n",
    "\n",
    "a,b = 3,3\n",
    "a.__eq__(b)"
   ]
  },
  {
   "cell_type": "code",
   "execution_count": null,
   "metadata": {},
   "outputs": [],
   "source": [
    "## 5.2 __eq__() : Use case\n",
    "class Point:\n",
    "    def __init__(self,x,y):\n",
    "        self.x,self.y = x,y\n",
    "    def __eq__(self, value):\n",
    "        return self.x == value.x and self.y == value.y\n",
    "\n",
    "p1 = Point(1,2)\n",
    "p2 = Point(1,2)\n",
    "p1.__eq__(p2)"
   ]
  },
  {
   "cell_type": "code",
   "execution_count": null,
   "metadata": {},
   "outputs": [],
   "source": [
    "p1 = Point(2,2)\n",
    "p2 = Point(2,3)\n",
    "p1.__eq__(p2)"
   ]
  },
  {
   "cell_type": "code",
   "execution_count": null,
   "metadata": {},
   "outputs": [],
   "source": [
    "# Adding 2 objects point using __add__()\n",
    "\n",
    "class Point:\n",
    "    def __init__(self,x,y):\n",
    "        self.x,self.y = x,y\n",
    "    def __add__(self, value):\n",
    "        # when we uses + operator with point objects, python internally calls __add__()\n",
    "        return Point(self.x + value.x , self.y + value.y)\n",
    "\n",
    "p1 = Point(1,2)\n",
    "p2 = Point(1,2)\n",
    "p3 = p1+p2\n",
    "\n",
    "print(p3.x,p3.y)\n"
   ]
  },
  {
   "cell_type": "markdown",
   "metadata": {},
   "source": [
    "## Topic 7.9 : Decorators\n"
   ]
  },
  {
   "cell_type": "markdown",
   "metadata": {},
   "source": [
    "#### Decorators allows to modify or extend the behaviour or function/class  without directly modifying their\n",
    "#### Similar to you decorating your Room (putting different lights, sticker, posters) :--> extends the basic behaviour of room \n",
    "\n"
   ]
  },
  {
   "cell_type": "markdown",
   "metadata": {},
   "source": [
    "\n",
    "### Function Decorators "
   ]
  },
  {
   "cell_type": "code",
   "execution_count": null,
   "metadata": {},
   "outputs": [],
   "source": [
    "def my_decorator_fun():\n",
    "    print(\"The line before computation.\")\n",
    "    print(11*1200)\n",
    "    print(\"THe line after computation. \")\n",
    "my_decorator_fun()"
   ]
  },
  {
   "cell_type": "code",
   "execution_count": 14,
   "metadata": {},
   "outputs": [],
   "source": [
    "# To understand use case :--> Say you want to use the line before compuation and after computation after each time you create a function or call function. So it will take a lot of time a type to lines repeatatively\n",
    "# And That why the concepts of decorators comes into the picture\n",
    "\n",
    "def my_decorator_fun():\n",
    "    print(\"The line before computation.\")\n",
    "    print(11*1200) # Decorating the actual computation with line above and line below\n",
    "    print(\"THe line after computation. \")\n",
    "\n",
    "#  In the above approach you have to write all the line as many times as you are  creating the different function "
   ]
  },
  {
   "cell_type": "code",
   "execution_count": 15,
   "metadata": {},
   "outputs": [],
   "source": [
    "# Lets See the decorator apporach\n",
    "\n",
    "# Decorator approach for function >> use case:\n",
    "\n",
    "def my_decorator(fun): # THis is the decorator function that takes another function as argument \n",
    "    def wrapper(): # Add the functionality before and agter calling function \n",
    "        print(\"The line before computation.\")\n",
    "        fun()\n",
    "        print(\"THe line after computation. \")\n",
    "    return wrapper()\n",
    " "
   ]
  },
  {
   "cell_type": "code",
   "execution_count": 16,
   "metadata": {},
   "outputs": [
    {
     "name": "stdout",
     "output_type": "stream",
     "text": [
      "The line before computation.\n",
      "Hello\n",
      "THe line after computation. \n"
     ]
    }
   ],
   "source": [
    "@my_decorator\n",
    "def say_hello():\n",
    "    print(\"Hello\")"
   ]
  },
  {
   "cell_type": "code",
   "execution_count": 17,
   "metadata": {},
   "outputs": [
    {
     "ename": "TypeError",
     "evalue": "'NoneType' object is not callable",
     "output_type": "error",
     "traceback": [
      "\u001b[1;31m---------------------------------------------------------------------------\u001b[0m",
      "\u001b[1;31mTypeError\u001b[0m                                 Traceback (most recent call last)",
      "Cell \u001b[1;32mIn[17], line 2\u001b[0m\n\u001b[0;32m      1\u001b[0m \u001b[38;5;66;03m# When say_hello() is called, it is actually first calling the decorator methods which in return is calling wrapper function and then the wrapper function printing the line and calling the say_hello()\u001b[39;00m\n\u001b[1;32m----> 2\u001b[0m \u001b[43msay_hello\u001b[49m\u001b[43m(\u001b[49m\u001b[43m)\u001b[49m\n",
      "\u001b[1;31mTypeError\u001b[0m: 'NoneType' object is not callable"
     ]
    }
   ],
   "source": [
    "# When say_hello() is called, it is actually first calling the decorator methods which in return is calling wrapper function and then the wrapper function printing the line and calling the say_hello()\n",
    "say_hello()\n"
   ]
  },
  {
   "cell_type": "code",
   "execution_count": 18,
   "metadata": {},
   "outputs": [
    {
     "name": "stdout",
     "output_type": "stream",
     "text": [
      "108641977793800000000\n",
      "The time for execuing the code  0.0\n"
     ]
    }
   ],
   "source": [
    "# another use case of function decorator \n",
    "import time\n",
    "\n",
    "def timer_decorator(fun):\n",
    "    def timer():\n",
    "        start = time.time()\n",
    "        fun()\n",
    "        end = time.time()\n",
    "        print(\"The time for execuing the code \",end-start)\n",
    "    return timer\n",
    "\n",
    "@timer_decorator\n",
    "def func_test():\n",
    "    print(1100000000*98765434358)\n",
    "\n",
    "func_test()"
   ]
  },
  {
   "cell_type": "markdown",
   "metadata": {},
   "source": [
    "#### Why We need Decorators ?\n",
    "#### Reusability Of Code >> Reuse the common Code\n",
    "#### Enhancing the function without modifying the original function\n",
    "#### Use Case : 1. Exection Time of Code , Logging, Caching, Validation "
   ]
  },
  {
   "cell_type": "markdown",
   "metadata": {},
   "source": [
    "\n",
    "### Class Decorators"
   ]
  },
  {
   "cell_type": "code",
   "execution_count": 31,
   "metadata": {},
   "outputs": [
    {
     "name": "stdout",
     "output_type": "stream",
     "text": [
      "Inside The init method.\n",
      "Some Thing is happening before function\n",
      "Hello\n",
      "Something is happening after function. \n"
     ]
    }
   ],
   "source": [
    "class MyDecorator:\n",
    "    def __init__(self,func): # Similar to function decorator you are passing func in class decorator\n",
    "        self.func = func\n",
    "        print(\"Inside The init method.\")\n",
    "    \n",
    "    # __call__() is special method which is called/invoked when you call instacne/object of the class as  a function.\n",
    "    def __call__(self):\n",
    "        print(\"Some Thing is happening before function\")\n",
    "        self.func()\n",
    "        print(\"Something is happening after function. \")\n",
    "\n",
    "@MyDecorator\n",
    "# class __call__ will be executed as the object if the class will be called as function >> So first __init__ method will executed and then __call__ method will be executed.\n",
    "def say_hello():\n",
    "    print(\"Hello\")\n",
    "\n",
    "say_hello()"
   ]
  },
  {
   "cell_type": "code",
   "execution_count": 29,
   "metadata": {},
   "outputs": [
    {
     "name": "stdout",
     "output_type": "stream",
     "text": [
      "Inside The init method.\n"
     ]
    }
   ],
   "source": [
    "class MyDecorator:\n",
    "    def __init__(self):  \n",
    "        print(\"Inside The init method.\")\n",
    "    \n",
    "    # __call__() is special method which is called/invoked when you call instacne/object of the class as  a function.\n",
    "    def __call__(self):\n",
    "        print(\"Inside the call method.\")\n",
    "\n",
    "# When you make an object of the class, init is executed first.\n",
    "obj = MyDecorator()"
   ]
  },
  {
   "cell_type": "code",
   "execution_count": 30,
   "metadata": {},
   "outputs": [
    {
     "name": "stdout",
     "output_type": "stream",
     "text": [
      "Inside the call method.\n"
     ]
    }
   ],
   "source": [
    "# When you call an object of a class as function __call__ method will called / invoked\n",
    "obj()"
   ]
  },
  {
   "cell_type": "markdown",
   "metadata": {},
   "source": [
    "### Some inbuilt Decorators \n",
    "#### @classmethod :-> The method that takes the class itself as the first argument\n",
    "#### @staticmethod :->THe method which can be called without creating any instacne of class without using self and cls \n",
    "#### Property Decorator :-> It allows method to be accessed as attribute "
   ]
  },
  {
   "cell_type": "code",
   "execution_count": 35,
   "metadata": {},
   "outputs": [
    {
     "data": {
      "text/plain": [
       "('Math', 9)"
      ]
     },
     "execution_count": 35,
     "metadata": {},
     "output_type": "execute_result"
    }
   ],
   "source": [
    "# 1. @classmethod\n",
    "# Class Method is bound to class and not the instance of the class.\n",
    "# Class itself as the first argument >> conventionally cls\n",
    "\n",
    "class Math:\n",
    "    @classmethod # takes reference to the class itself to modify and access class level attributes/data\n",
    "    def add(cls,x,y):\n",
    "        return cls.__name__,x+y \n",
    "    # Here cls.__name__ return class_name\n",
    "    # Here cls.name return Math\n",
    "\n",
    "Math.add(3,6)\n"
   ]
  },
  {
   "cell_type": "code",
   "execution_count": 38,
   "metadata": {},
   "outputs": [
    {
     "data": {
      "text/plain": [
       "('__main__', 9)"
      ]
     },
     "execution_count": 38,
     "metadata": {},
     "output_type": "execute_result"
    }
   ],
   "source": [
    "# @staticmethod\n",
    "class Math:\n",
    "    @staticmethod\n",
    "    def add(x,y):\n",
    "        return __name__,x+y\n",
    "\n",
    "Math.add(3,6)"
   ]
  },
  {
   "cell_type": "markdown",
   "metadata": {},
   "source": [
    "#### Class Method :\n",
    "1. cls as a first arrgument \n",
    "2. You can access and modify class level attributes \n",
    "3. class method to be used when you won't to modify class level data\n",
    "#### Static Method : \n",
    "1. No first arrgument\n",
    "2. You cannot modify \n",
    "3. When you dont want to interact with class level data"
   ]
  },
  {
   "cell_type": "code",
   "execution_count": 49,
   "metadata": {},
   "outputs": [
    {
     "name": "stdout",
     "output_type": "stream",
     "text": [
      "radius :  5\n",
      "earlyer we call object_name.method_name() 78.5\n"
     ]
    }
   ],
   "source": [
    "# property decorator\n",
    "class Circle:\n",
    "    def __init__(self,radius):\n",
    "        self.radius = radius\n",
    "    def area(self):\n",
    "        radius = self.radius\n",
    "        return 3.14*radius**2\n",
    "obj = Circle(5)\n",
    "print(\"radius : \",obj.radius)\n",
    "\n",
    "# In earlyer we call \n",
    "print(f\"earlyer we call object_name.method_name() {obj.area()}\")"
   ]
  },
  {
   "cell_type": "code",
   "execution_count": 52,
   "metadata": {},
   "outputs": [
    {
     "name": "stdout",
     "output_type": "stream",
     "text": [
      "radius :  5\n",
      "By using property decorator 78.5\n"
     ]
    }
   ],
   "source": [
    "# 3.  @property Decorator\n",
    "# property decorator\n",
    "class Circle:\n",
    "    def __init__(self,radius):\n",
    "        self.radius = radius\n",
    "    @property\n",
    "    def area(self):\n",
    "        radius = self.radius\n",
    "        return 3.14*radius**2\n",
    "obj = Circle(5)\n",
    "print(\"radius : \",obj.radius)\n",
    "\n",
    "# Using @property Decorator \n",
    "print(f\"By using property decorator 'No need for () parenthis' : object_name.method_name  {obj.area}\")"
   ]
  },
  {
   "cell_type": "markdown",
   "metadata": {},
   "source": [
    "## Topic 7.10 : Property Decorators"
   ]
  },
  {
   "cell_type": "code",
   "execution_count": 55,
   "metadata": {},
   "outputs": [
    {
     "data": {
      "text/plain": [
       "'Pravin'"
      ]
     },
     "execution_count": 55,
     "metadata": {},
     "output_type": "execute_result"
    }
   ],
   "source": [
    "class Student:\n",
    "    def __init__(self,name, price):\n",
    "        self.__name = name\n",
    "        self.__price = price\n",
    "\n",
    "student1 = Student(\"Pravin\",8.6)\n",
    "# accessing private variable\n",
    "student1._Student__name"
   ]
  },
  {
   "cell_type": "markdown",
   "metadata": {},
   "source": [
    "#### Part 1 : Another way to expose private variable without using property decorator "
   ]
  },
  {
   "cell_type": "code",
   "execution_count": 58,
   "metadata": {},
   "outputs": [
    {
     "data": {
      "text/plain": [
       "8.6"
      ]
     },
     "execution_count": 58,
     "metadata": {},
     "output_type": "execute_result"
    }
   ],
   "source": [
    "class Student:\n",
    "    def __init__(self,name, price):\n",
    "        self.__name = name\n",
    "        self.__price = price\n",
    "    \n",
    "    def access_price(self):\n",
    "        return self.__price\n",
    "\n",
    "\n",
    "student1 = Student(\"Pravin\",8.6)\n",
    "student1.access_price()"
   ]
  },
  {
   "cell_type": "markdown",
   "metadata": {},
   "source": [
    "####  Part 2 : Another way to expose private variable using property decorator "
   ]
  },
  {
   "cell_type": "code",
   "execution_count": 63,
   "metadata": {},
   "outputs": [
    {
     "data": {
      "text/plain": [
       "8.6"
      ]
     },
     "execution_count": 63,
     "metadata": {},
     "output_type": "execute_result"
    }
   ],
   "source": [
    "class Student:\n",
    "    def __init__(self,name, price):\n",
    "        self.__name = name\n",
    "        self.__price = price\n",
    "    \n",
    "    @property\n",
    "    def access_price(self):\n",
    "        return self.__price\n",
    "\n",
    "\n",
    "student1 = Student(\"Pravin\",8.6)\n",
    "student1.access_price"
   ]
  },
  {
   "cell_type": "markdown",
   "metadata": {},
   "source": [
    "#### Part 1 And Part 2 having only diffences is parathisis '()' or @property Decorator"
   ]
  },
  {
   "cell_type": "code",
   "execution_count": 71,
   "metadata": {},
   "outputs": [
    {
     "name": "stdout",
     "output_type": "stream",
     "text": [
      "Already avaible Price  8.6\n",
      "Updated Price :  8.9\n"
     ]
    }
   ],
   "source": [
    "# Set a new price\n",
    "class Student:\n",
    "    def __init__(self,name, price):\n",
    "        self.__name = name\n",
    "        self.__price = price\n",
    "    \n",
    "    @property\n",
    "    def access_price(self):\n",
    "        return self.__price\n",
    "\n",
    "    @access_price.setter\n",
    "    def price_set(self,price_new):\n",
    "        self.__price = price_new\n",
    "\n",
    "\n",
    "student1 = Student(\"Pravin\",8.6)\n",
    "print(\"Already avaible Price \",student1.access_price)\n",
    "student1.price_set = 8.9\n",
    "print(\"Updated Price : \",student1.access_price)\n"
   ]
  },
  {
   "cell_type": "code",
   "execution_count": 76,
   "metadata": {},
   "outputs": [
    {
     "name": "stdout",
     "output_type": "stream",
     "text": [
      "Already avaible Price  8.6\n",
      "Updated Price :  8.9\n"
     ]
    },
    {
     "ename": "AttributeError",
     "evalue": "'Student' object has no attribute 'del__price'",
     "output_type": "error",
     "traceback": [
      "\u001b[1;31m---------------------------------------------------------------------------\u001b[0m",
      "\u001b[1;31mAttributeError\u001b[0m                            Traceback (most recent call last)",
      "Cell \u001b[1;32mIn[76], line 28\u001b[0m\n\u001b[0;32m     25\u001b[0m student1\u001b[38;5;241m.\u001b[39mprice_set \u001b[38;5;241m=\u001b[39m \u001b[38;5;241m8.9\u001b[39m\n\u001b[0;32m     26\u001b[0m \u001b[38;5;28mprint\u001b[39m(\u001b[38;5;124m\"\u001b[39m\u001b[38;5;124mUpdated Price : \u001b[39m\u001b[38;5;124m\"\u001b[39m,student1\u001b[38;5;241m.\u001b[39maccess_price)\n\u001b[1;32m---> 28\u001b[0m \u001b[43mstudent1\u001b[49m\u001b[38;5;241;43m.\u001b[39;49m\u001b[43mdel__price\u001b[49m\n\u001b[0;32m     29\u001b[0m \u001b[38;5;28mprint\u001b[39m(\u001b[38;5;124m\"\u001b[39m\u001b[38;5;124mIt produce error becuse price is already is deleted\u001b[39m\u001b[38;5;124m\"\u001b[39m,student1\u001b[38;5;241m.\u001b[39maccess_price)\n",
      "\u001b[1;31mAttributeError\u001b[0m: 'Student' object has no attribute 'del__price'"
     ]
    }
   ],
   "source": [
    "# Delete the Price\n",
    "class Student:\n",
    "    def __init__(self,name, price):\n",
    "        self.__name = name\n",
    "        self.__price = price\n",
    "    \n",
    "    # access the private variable\n",
    "    @property\n",
    "    def access_price(self):\n",
    "        return self.__price\n",
    "\n",
    "    # Set a new price\n",
    "    @access_price.setter\n",
    "    def price_set(self,price_new):\n",
    "        self.__price = price_new\n",
    "\n",
    "    # Delete the price \n",
    "    @access_price.deleter\n",
    "    def access__price(self):\n",
    "        del self.__price\n",
    "\n",
    "\n",
    "student1 = Student(\"Pravin\",8.6)\n",
    "print(\"Already avaible Price \",student1.access_price)\n",
    "student1.price_set = 8.9\n",
    "print(\"Updated Price : \",student1.access_price)\n",
    "\n",
    "student1.del__price\n",
    "print(\"It produce error becuse price is already is deleted\",student1.access_price)\n"
   ]
  },
  {
   "cell_type": "code",
   "execution_count": 88,
   "metadata": {},
   "outputs": [
    {
     "name": "stdout",
     "output_type": "stream",
     "text": [
      "23\n",
      "2\n",
      "Area :  12.56\n"
     ]
    },
    {
     "ename": "AttributeError",
     "evalue": "'Circle' object has no attribute '_Circle__radius'",
     "output_type": "error",
     "traceback": [
      "\u001b[1;31m---------------------------------------------------------------------------\u001b[0m",
      "\u001b[1;31mAttributeError\u001b[0m                            Traceback (most recent call last)",
      "Cell \u001b[1;32mIn[88], line 30\u001b[0m\n\u001b[0;32m     28\u001b[0m \u001b[38;5;28mprint\u001b[39m(\u001b[38;5;124m\"\u001b[39m\u001b[38;5;124mArea : \u001b[39m\u001b[38;5;124m\"\u001b[39m,c\u001b[38;5;241m.\u001b[39marea())\n\u001b[0;32m     29\u001b[0m \u001b[38;5;28;01mdel\u001b[39;00m c\u001b[38;5;241m.\u001b[39mradius\n\u001b[1;32m---> 30\u001b[0m \u001b[38;5;28mprint\u001b[39m(\u001b[43mc\u001b[49m\u001b[38;5;241;43m.\u001b[39;49m\u001b[43mradius\u001b[49m)\n",
      "Cell \u001b[1;32mIn[88], line 8\u001b[0m, in \u001b[0;36mCircle.radius\u001b[1;34m(self)\u001b[0m\n\u001b[0;32m      6\u001b[0m \u001b[38;5;129m@property\u001b[39m\n\u001b[0;32m      7\u001b[0m \u001b[38;5;28;01mdef\u001b[39;00m \u001b[38;5;21mradius\u001b[39m(\u001b[38;5;28mself\u001b[39m):\n\u001b[1;32m----> 8\u001b[0m     \u001b[38;5;28;01mreturn\u001b[39;00m \u001b[38;5;28;43mself\u001b[39;49m\u001b[38;5;241;43m.\u001b[39;49m\u001b[43m__radius\u001b[49m\n",
      "\u001b[1;31mAttributeError\u001b[0m: 'Circle' object has no attribute '_Circle__radius'"
     ]
    }
   ],
   "source": [
    "# Use case\n",
    "class Circle:\n",
    "    def __init__(self,radius):\n",
    "        self.__radius = radius\n",
    "    \n",
    "    @property\n",
    "    def radius(self):\n",
    "        return self.__radius\n",
    "\n",
    "    @radius.setter\n",
    "    def radius(self,value):\n",
    "        if value <= 0:\n",
    "            raise ValueError(\"Radius is not Positive.\")\n",
    "        self.__radius=value\n",
    "    \n",
    "    @radius.deleter\n",
    "    def radius(self):\n",
    "        del self.__radius\n",
    "    \n",
    "    def area(self):\n",
    "        return 3.14*self.__radius**2\n",
    "    \n",
    "    \n",
    "c = Circle(23)\n",
    "print(c.radius)\n",
    "c.radius = 2\n",
    "print(c.radius)\n",
    "print(\"Area : \",c.area())\n",
    "del c.radius\n",
    "print(c.radius)\n"
   ]
  },
  {
   "cell_type": "code",
   "execution_count": null,
   "metadata": {},
   "outputs": [],
   "source": []
  },
  {
   "cell_type": "code",
   "execution_count": null,
   "metadata": {},
   "outputs": [],
   "source": []
  },
  {
   "cell_type": "code",
   "execution_count": null,
   "metadata": {},
   "outputs": [],
   "source": []
  },
  {
   "cell_type": "markdown",
   "metadata": {},
   "source": [
    "## Exercise :"
   ]
  },
  {
   "cell_type": "markdown",
   "metadata": {},
   "source": [
    " "
   ]
  },
  {
   "cell_type": "code",
   "execution_count": null,
   "metadata": {},
   "outputs": [],
   "source": [
    "class Circle:\n",
    "\n",
    "    # calculate area \n",
    "    def circle_area(self,radius):\n",
    "        return 3.14*radius**2\n",
    "    \n",
    "    # calculate perimeter\n",
    "    def circle_perimeter(self,radius):\n",
    "        return 2*3.14*radius\n",
    "\n",
    "radius = float(input(\"Input the radius of the circle : \"))\n",
    "\n",
    "circle = Circle()\n",
    "print(f\"Radius Of Circle {radius} Area of the circle {circle.circle_area(radius)} \")\n",
    "print(f\"Radius Of Circle {radius} Perimeter of the Circle {circle.circle_perimeter(radius)}\")\n"
   ]
  },
  {
   "cell_type": "markdown",
   "metadata": {},
   "source": [
    "### 2. Write a Python program to create a person class. Include attributes like name, country and date of birth. Implement a method to determine the person's age."
   ]
  },
  {
   "cell_type": "code",
   "execution_count": null,
   "metadata": {},
   "outputs": [],
   "source": [
    "# import datetime modul\n",
    "from datetime import date\n",
    "class Person:\n",
    "    def __init__(self,name,country,date_of_birth):\n",
    "        self.name , self.country, self.date_of_birth = name,country,date_of_birth\n",
    "    \n",
    "    #  To calculate the Person Age\n",
    "    def determine_age(self):\n",
    "        today = date.today()\n",
    "        age = today.year - self.date_of_birth.year\n",
    "        "
   ]
  },
  {
   "cell_type": "code",
   "execution_count": null,
   "metadata": {},
   "outputs": [],
   "source": [
    "from datetime import date \n",
    "today = date.today()\n",
    "print(today)"
   ]
  },
  {
   "cell_type": "code",
   "execution_count": null,
   "metadata": {},
   "outputs": [],
   "source": [
    "def calculate_age(self):\n",
    "        today = date.today()\n",
    "        age = today.year - self.date_of_birth.year\n",
    "        if today < date(today.year, self.date_of_birth.month, self.date_of_birth.day):\n",
    "            age -= 1\n",
    "        return age"
   ]
  },
  {
   "cell_type": "markdown",
   "metadata": {},
   "source": [
    "### 3. Write a Python program to create a calculator class. Include methods for basic arithmetic operations."
   ]
  },
  {
   "cell_type": "code",
   "execution_count": null,
   "metadata": {},
   "outputs": [],
   "source": [
    "class Calculater:\n",
    "\n",
    "    def __add__(self,x,y):\n",
    "        return x + y\n",
    "    \n",
    "    def  __sub__(self,x,y):\n",
    "        return x-y\n",
    "    \n",
    "    def __mul__(self,x,y):\n",
    "        return x*y\n",
    "    \n",
    "    def __div__(self,x,y):\n",
    "        if y != 0:\n",
    "            return x/y\n",
    "        else:\n",
    "            return(\"Cannot Divide by zero.\")\n",
    "\n",
    "Calculater().__add__(2,4)\n",
    "Calculater().__sub__(9,8)\n"
   ]
  },
  {
   "cell_type": "markdown",
   "metadata": {},
   "source": [
    "### 4. Write a Python program to create a class that represents a shape. Include methods to calculate its area and perimeter. Implement subclasses for different shapes like circle, triangle, and square."
   ]
  },
  {
   "cell_type": "code",
   "execution_count": null,
   "metadata": {},
   "outputs": [],
   "source": []
  },
  {
   "cell_type": "code",
   "execution_count": 3,
   "metadata": {},
   "outputs": [
    {
     "name": "stdout",
     "output_type": "stream",
     "text": [
      "Engine started\n",
      "Car started\n"
     ]
    }
   ],
   "source": [
    "class Engine:\n",
    "    def start(self):\n",
    "        print(\"Engine started\")\n",
    "\n",
    "class Car:\n",
    "    def __init__(self):\n",
    "        self.engine = Engine()  # Car has an Engine\n",
    "\n",
    "    def start(self):\n",
    "        self.engine.start()\n",
    "        print(\"Car started\")\n",
    "\n",
    "my_car = Car()\n",
    "my_car.start()\n"
   ]
  },
  {
   "cell_type": "markdown",
   "metadata": {},
   "source": [
    "## Notes "
   ]
  },
  {
   "cell_type": "markdown",
   "metadata": {},
   "source": [
    "Source : - > \n",
    "https://medium.com/@edwinvarghese4442/top-oops-questions-asked-in-python-interviews-8bd01623e6f5"
   ]
  },
  {
   "cell_type": "markdown",
   "metadata": {},
   "source": [
    "### 1. What are the four main principles of oops and how are they implemented in Python ?\n",
    "### The 4 Principles of OOPs are:- \n",
    "#### Encapsulation\n",
    "##### 1. Encapsulation refers to the bundling of data and method the operat on the data into a single unit or class <br>2. It helps in hiding the internal state of an object and only exposing the necessary method to iteract with the object's state. <br> 3. In Python, encapsulation is implemented using classes where atributes are defined within class and accessed using methods to controal access and modificatio. \n",
    "##### 2. Abstraction <br>1. Abstraction refers to the process of hiding the complex implementation details and showing only the essential features of the object.<br>2. It allows for building models that represent real-world entities and interactions, focusing on what an object does rather than how it does it.<br>3. In Python, abstraction is achieved through classes and methods, where methods provide a high-level interface for interacting with objects while hiding the internal implementation details.\n",
    "##### 3. Inheritance: <br>1.Inheritance allows a class (subclass or derived class) to inherit attributes and methods from another class (superclass or base class), promoting code reuse and creating a hierarchy of classes with shared characteristics.<br>2. It enables the creation of specialized subclasses that extend or override the behavior of the superclass, facilitating modular and maintainable code.<br>3. In Python, inheritance is implemented using the class keyword, where subclasses inherit from superclasses, and the super() function is used to access superclass methods and constructors.\n",
    "##### 4. Polymorphism:<br>1. Polymorphism refers to the ability of objects to take on multiple forms or behaviors depending on their context or the type of data they operate on.<br>2. It allows for the same method name to behave differently in different contexts or for different types of objects, promoting flexibility and extensibility.<br>3. In Python, polymorphism is achieved through method overriding and method overloading, where subclasses can override superclass methods to provide specialized behavior, and functions or methods can accept arguments of different types and behave accordingly."
   ]
  },
  {
   "cell_type": "code",
   "execution_count": 6,
   "metadata": {},
   "outputs": [
    {
     "data": {
      "text/plain": [
       "('__main__', 'Pravinsingh', 8767)"
      ]
     },
     "execution_count": 6,
     "metadata": {},
     "output_type": "execute_result"
    }
   ],
   "source": [
    "# Encapsulation  : - >\n",
    "\n",
    "class Person_Data:\n",
    "    def __init__(self,name,id):\n",
    "\n",
    "        # both are proceted variable\n",
    "        self._name = name\n",
    "        self._id = id\n",
    "    \n",
    "    def get_data(self):\n",
    "        return __name__,self._name,self._id\n",
    "\n",
    "# create object :\n",
    "person1 = Person_Data(\"Pravinsingh\",8767)\n",
    "\n",
    "# call method : get_data\n",
    "person1.get_data()\n",
    "\n",
    "class HideComplexData:\n",
    "    def __init__(self,name,id):\n",
    "        "
   ]
  },
  {
   "cell_type": "code",
   "execution_count": 46,
   "metadata": {},
   "outputs": [
    {
     "name": "stdout",
     "output_type": "stream",
     "text": [
      "Second Area\n",
      "None\n",
      "24\n"
     ]
    }
   ],
   "source": [
    "# Abstraction Example\n",
    "from abc import ABC, abstractmethod\n",
    "\n",
    "class Shape(ABC):  # Abstract class\n",
    "    @abstractmethod\n",
    "    def area(self):\n",
    "        print(\"first area\")\n",
    "    def area(self):\n",
    "        print(\"Second Area\")\n",
    "\n",
    "class Circle(Shape):\n",
    "    def __init__(self, radius):\n",
    "        self.radius = radius\n",
    "\n",
    "    # def area(self):\n",
    "        # return 3.14 * self.radius ** 2\n",
    "\n",
    "class Rectangle(Shape):\n",
    "    def __init__(self, length, width):\n",
    "        self.length = length\n",
    "        self.width = width\n",
    "\n",
    "    def area(self):\n",
    "        return self.length * self.width\n",
    "\n",
    "circle = Circle(4)\n",
    "print(circle.area())  \n",
    "rectangle = Rectangle(4, 6)\n",
    "print(rectangle.area()) \n",
    "\n",
    "  \n",
    "# The None is printed because the area method in the Shape class is being called, which prints “Second Area” and then returns None. This happens because the Circle class does not have its own implementation of the area method, so it inherits the area method from the Shape class.\n"
   ]
  },
  {
   "cell_type": "code",
   "execution_count": 47,
   "metadata": {},
   "outputs": [
    {
     "name": "stdout",
     "output_type": "stream",
     "text": [
      "Animal sound\n",
      "Woof!\n",
      "Meow!\n"
     ]
    }
   ],
   "source": [
    "# Polymorphism Example\n",
    "class Animal:\n",
    "    def sound(self):\n",
    "        return \"Animal sound\"\n",
    "\n",
    "class Dog(Animal):\n",
    "    def sound(self):\n",
    "        return \"Woof!\"\n",
    "\n",
    "class Cat(Animal):\n",
    "    def sound(self):\n",
    "        return \"Meow!\"\n",
    "\n",
    "def make_sound(animal):\n",
    "    return animal.sound()\n",
    "\n",
    "animal = Animal()\n",
    "print(make_sound(animal))  # Output: Animal sound\n",
    "dog = Dog()\n",
    "print(make_sound(dog))  # Output: Woof!\n",
    "cat = Cat()\n",
    "print(make_sound(cat))  # Output: Meow!"
   ]
  },
  {
   "cell_type": "code",
   "execution_count": null,
   "metadata": {},
   "outputs": [],
   "source": []
  },
  {
   "cell_type": "code",
   "execution_count": null,
   "metadata": {},
   "outputs": [],
   "source": []
  },
  {
   "cell_type": "markdown",
   "metadata": {},
   "source": [
    "### 2. Difference between instace variable and class variable in python\n",
    "\n",
    "#### In Python, instance variables belong to instances of a class, representing the state of individual objects, while class variables belong to the class itself, representing attributes shared by all instances of the class. Instance variables are defined within methods using the self keyword and are unique to each instance, whereas class variables are defined outside methods and are accessed using the class name. Instance variables are specific to each object, while class variables are common to all objects of the class."
   ]
  },
  {
   "cell_type": "code",
   "execution_count": 64,
   "metadata": {},
   "outputs": [
    {
     "name": "stdout",
     "output_type": "stream",
     "text": [
      "class_name.variable_name :  Class Veriable \n",
      "access normal instance variable  Prain\n",
      "access the private variable (instance variable ) : 87\n"
     ]
    }
   ],
   "source": [
    "class Var:\n",
    "    class_variable = \"Class Veriable \"\n",
    "    def __init__(self,name,id):\n",
    "        self.id = id\n",
    "        # name is private instace \n",
    "        self.__name = name\n",
    "    def get_private_variable(self):\n",
    "        return self.__name\n",
    "\n",
    "# Access class variable\n",
    "print(\"class_name.variable_name : \",Var.class_variable)\n",
    "\n",
    "# make the class object \n",
    "obj = Var(id = \"Prain\",name = 87)\n",
    "print(\"access normal instance variable \",obj.id)\n",
    "print(f\"access the private variable (instance variable ) : {obj.get_private_variable()}\")"
   ]
  },
  {
   "cell_type": "markdown",
   "metadata": {},
   "source": [
    "### 3.  Explain the concept of method overriding and method overloading in Python.\n",
    "\n",
    "#### In Python, method overriding refers to the ability of a subclass to provide a specific implementation of a method that is already defined in its superclass. This allows the subclass to customize or extend the behavior of the inherited method without modifying the superclass implementation. Method overriding is achieved by defining a method in the subclass with the same name and signature as the method in the superclass.\n",
    "\n",
    "#### Method overloading, on the other hand, is not directly supported in Python as it is in some other languages like Java or C++. However, Python allows functions and methods to accept a variable number of arguments through features like default arguments, variable-length argument lists (*args and **kwargs), and using optional arguments with default values. This enables developers to achieve similar functionality to method overloading by defining multiple functions or methods with different argument signatures."
   ]
  },
  {
   "cell_type": "code",
   "execution_count": 69,
   "metadata": {},
   "outputs": [
    {
     "name": "stdout",
     "output_type": "stream",
     "text": [
      "This is class B\n",
      "Hello! I am Suraj\n"
     ]
    }
   ],
   "source": [
    "#  method overriding : -> \n",
    "\n",
    "class A: \n",
    "    def __init__(self):\n",
    "        print(\"This is class A.\")\n",
    "    \n",
    "    def Hello(self):\n",
    "        print(\"Hello! I am Pravin.\")\n",
    "\n",
    "class B(A):\n",
    "    def __init__(self):\n",
    "        print(\"This is class B\")\n",
    "    def Hello(self):\n",
    "        print(\"Hello! I am Suraj\")\n",
    "\n",
    "# create object of class B\n",
    "b1 = B()\n",
    "\n",
    "b1.Hello()\n"
   ]
  },
  {
   "cell_type": "code",
   "execution_count": 73,
   "metadata": {},
   "outputs": [
    {
     "name": "stdout",
     "output_type": "stream",
     "text": [
      "pravin \n",
      "pravin 33\n"
     ]
    }
   ],
   "source": [
    "# method Overloading : ->\n",
    "class A: \n",
    "    def data(self,name):\n",
    "        print(name)\n",
    "    def data(self,name=\"\",id=\"\"):\n",
    "        print(name,id)\n",
    "\n",
    "a1 = A()\n",
    "a1.data(\"pravin\")\n",
    "a1.data(\"pravin\",33)"
   ]
  },
  {
   "cell_type": "markdown",
   "metadata": {},
   "source": [
    "### 4. . How do you create a constructor in Python? Explain with an example.\n",
    "\n",
    "##### In Python, a constructor is a special method called __init__() that is automatically invoked when a new object of a class is created. It is used to initialize the object's state or set up initial values for its attributes."
   ]
  },
  {
   "cell_type": "code",
   "execution_count": 5,
   "metadata": {},
   "outputs": [
    {
     "name": "stdout",
     "output_type": "stream",
     "text": [
      "This is default Constructor.\n",
      "This is Parameterized Constructor . Here Paramete is name and its value is : Pravinsingh\n"
     ]
    }
   ],
   "source": [
    "class Constructor:\n",
    "\n",
    "    # by Default Constructor \n",
    "    def __init__(self):\n",
    "        print(\"This is default Constructor.\")\n",
    "    def data(self):\n",
    "        print(\"This is data method.\")\n",
    "\n",
    "default_constructor = Constructor()\n",
    "\n",
    "class ParameterizedConstructor:\n",
    "\n",
    "    # parameterized constructor \n",
    "    def __init__(self,name):\n",
    "        print(f\"This is Parameterized Constructor . Here Paramete is name and its value is : {name}\")\n",
    "\n",
    "parameterized_constructor = ParameterizedConstructor(\"Pravinsingh\")"
   ]
  },
  {
   "cell_type": "markdown",
   "metadata": {},
   "source": [
    "### 5. Explain the difference between instance methods, class methods, and static methods in Python.\n",
    "\n",
    " \n",
    "#### 1. Instance Methods:-><br><br> 1. Instance methods are methods that operate on instances of a class and have access to the instance attributes through the self parameter.<br> 2. They are defined without any additional decorators and are the most common type of method in Python classes.\n",
    "\n",
    "#### 2. Class Methods:<br> 1. Class methods are methods that operate on the class itself rather than its instances and have access to the class variables through the cls parameter.<br> 2. They are defined using the @classmethod decorator and are typically used to create alternative constructors or perform operations that involve the class itself.\n",
    "#### 3. Static Methods:-><br><br> 1. Static methods are methods that do not operate on either instances or classes and are independent of the class state.<br> 2. They are defined using the @staticmethod decorator and do not require the self or cls parameters, making them similar to regular functions but within the class namespace."
   ]
  },
  {
   "cell_type": "markdown",
   "metadata": {},
   "source": [
    "### 6. What are magic methods in Python, and how are they used?\n",
    "\n",
    "#### Magic methods in Python are special methods surrounded by double underscores, used to customize the behavior of classes and objects. They are invoked implicitly by the interpreter in response to specific operations or built-in functions. Examples include `__init__()` for object initialization and `__str__()` for string representation. They enable developers to define how instances of a class behave in various contexts, such as arithmetic operations, iteration, comparison, and more."
   ]
  },
  {
   "cell_type": "markdown",
   "metadata": {},
   "source": [
    "### 7. What are abstract classes and interfaces in Python? How are they implemented?\n",
    "\n",
    "#### In Python, abstract classes and interfaces serve as blueprints for other classes to inherit from, providing a structure for common functionality without implementing the details.\n",
    "\n",
    "#### 1.Abstract Classes:\n",
    "##### Abstract classes in Python are classes that cannot be instantiated directly and contain one or more abstract methods, which are declared but not implemented.\n",
    "##### They are implemented using the abc module and the ABC (Abstract Base Class) metaclass, with abstract methods defined using the @abstractmethod decorator.\n",
    "##### Subclasses of abstract classes must implement all abstract methods to become concrete classes.\n",
    "\n",
    "#### 2.Interfaces:\n",
    "\n",
    "##### Interfaces in Python are not a built-in concept like in some other languages, but they can be simulated using abstract classes with no implemented methods, effectively serving as a contract for what methods a class must implement.\n",
    "#### They are implemented similarly to abstract classes, defining methods without implementations, but they do not require the ABC metaclass or the abc module."
   ]
  },
  {
   "cell_type": "code",
   "execution_count": 7,
   "metadata": {},
   "outputs": [
    {
     "name": "stdout",
     "output_type": "stream",
     "text": [
      "Bark\n",
      "Moving...\n"
     ]
    }
   ],
   "source": [
    "\n",
    "# Abstractmethod contain both method first is abstract and concrete(normal) method\n",
    "# Python support multiple inheritance, so a class can implement multiple multiple interfaces but can only inherit from one abstract class directly. \n",
    "# Abstract class fast compare Interface\n",
    "\n",
    "from abc import ABC, abstractmethod\n",
    "\n",
    "class Animal(ABC):\n",
    "    @abstractmethod\n",
    "    def make_sound(self):\n",
    "        pass\n",
    "\n",
    "    def move(self):\n",
    "        print(\"Moving...\")\n",
    "\n",
    "class Dog(Animal):\n",
    "    def make_sound(self):\n",
    "        print(\"Bark\")\n",
    "\n",
    "dog = Dog()\n",
    "dog.make_sound()  # Output: Bark\n",
    "dog.move()        # Output: Moving..."
   ]
  },
  {
   "cell_type": "code",
   "execution_count": 9,
   "metadata": {},
   "outputs": [
    {
     "name": "stdout",
     "output_type": "stream",
     "text": [
      "Car engine started\n",
      "Car engine stopped\n"
     ]
    }
   ],
   "source": [
    "# Interface : ->\n",
    "# All methods of an iterface are abstract \n",
    "# It is used when all the feature need to be implemented differently for differently for different objects. not \n",
    "# it is slow compare to abstract class\n",
    "from abc import ABC, abstractmethod\n",
    "\n",
    "class Vehicle(ABC):\n",
    "    @abstractmethod\n",
    "    def start_engine(self):\n",
    "        pass\n",
    "\n",
    "    @abstractmethod\n",
    "    def stop_engine(self):\n",
    "        pass\n",
    "\n",
    "class Car(Vehicle):\n",
    "    def start_engine(self):\n",
    "        print(\"Car engine started\")\n",
    "\n",
    "    def stop_engine(self):\n",
    "        print(\"Car engine stopped\")\n",
    "\n",
    "car = Car()\n",
    "car.start_engine()  # Output: Car engine started\n",
    "car.stop_engine()   # Output: Car engine stopped"
   ]
  },
  {
   "cell_type": "markdown",
   "metadata": {},
   "source": [
    "### 8. What is composition, and how is it different from inheritance?\n",
    "\n",
    "#### Composition and inheritance are two different mechanisms for structuring and reusing code in object-oriented programming:\n",
    "\n",
    "#### 1. Composition:\n",
    "\n",
    "##### Composition is a design principle where a class contains objects of other classes as attributes. It allows for building complex objects by combining simpler ones, promoting code reuse and modularity.\n",
    "##### In composition, the relationship between the containing class and the contained objects is typically a “has-a” relationship, where the containing class “has-a” reference to the contained objects.\n",
    "##### Composition is implemented by creating instances of other classes within a class and delegating behavior to those instances.\n",
    "#### 2. Inheritance:\n",
    "\n",
    "##### Inheritance is a mechanism where a class (subclass or derived class) inherits attributes and methods from another class (superclass or base class). It allows for creating new classes that extend or modify the behavior of existing classes.\n",
    "##### In inheritance, the relationship between the subclass and the superclass is an “is-a” relationship, where the subclass “is-a” specialized version of the superclass.\n",
    "##### Inheritance is implemented by using the class keyword and specifying the superclass in parentheses after the subclass name."
   ]
  },
  {
   "cell_type": "code",
   "execution_count": 10,
   "metadata": {},
   "outputs": [
    {
     "name": "stdout",
     "output_type": "stream",
     "text": [
      "Engine started\n",
      "Car started\n"
     ]
    }
   ],
   "source": [
    "# Composition : - >\n",
    "class Engine:\n",
    "    def start(self):\n",
    "        print(\"Engine started\")\n",
    "\n",
    "class Car:\n",
    "    def __init__(self):\n",
    "        self.engine = Engine()  # Car has an Engine (which is object of Engine class)\n",
    "\n",
    "    def start(self):\n",
    "        self.engine.start()\n",
    "        print(\"Car started\")\n",
    "\n",
    "my_car = Car()\n",
    "my_car.start()\n"
   ]
  },
  {
   "cell_type": "markdown",
   "metadata": {},
   "source": [
    "### 9. What is the purpose of the super() function in Python?\n",
    "\n",
    "#### The super() function in Python is used to call methods and access attributes from the superclass (parent class) within a subclass (child class). It allows subclasses to inherit and leverage behavior from their superclass, facilitating code reuse and maintaining a clean and organized class hierarchy. By using super(), developers can invoke superclass methods and constructors, ensuring that all necessary initialization and functionality from the superclass are properly executed within the subclass."
   ]
  },
  {
   "cell_type": "code",
   "execution_count": null,
   "metadata": {},
   "outputs": [],
   "source": [
    "# refer Encapsulation\n",
    "class Parent:\n",
    "    def __init__(self, name):\n",
    "        self.name = name\n",
    "\n",
    "    def greet(self):\n",
    "        print(f\"Hello, {self.name}\")\n",
    "\n",
    "class Child(Parent):\n",
    "    def __init__(self, name, age):\n",
    "        super().__init__(name)  # Call the __init__ method of the Parent class\n",
    "        self.age = age\n",
    "\n",
    "    def greet(self):\n",
    "        super().greet()  # Call the greet method of the Parent class\n",
    "        print(f\"You are {self.age} years old\")\n",
    "\n",
    "child = Child(\"Alice\", 10)\n",
    "child.greet()\n"
   ]
  },
  {
   "cell_type": "markdown",
   "metadata": {},
   "source": [
    "### 10 .Explain the concept of operator overloading in Python.\n",
    "\n",
    "##### Operator overloading in Python refers to the ability to define custom behavior for built-in operators (+, -, *, /, etc.) when they are used with user-defined objects.\n",
    "\n",
    "##### By implementing special methods (also known as magic methods or dunder methods) with predefined names, such as __add__() for addition, __sub__() for subtraction, and so on, in a class, developers can customize how instances of that class behave when operated upon with the corresponding operators.\n",
    "\n",
    "#####  This feature allows for more intuitive and expressive code, enabling user-defined objects to mimic the behavior of built-in types and interact seamlessly with Python’s existing operators and syntax.\n",
    "\n",
    "#### You can overload many other operators in a similar way, such as:\n",
    "\n",
    "1. _ _sub__ for -\n",
    "2. _ _mul__ for *\n",
    "3. _ _truediv__ for /\n",
    "4. _ _eq__ for ==\n",
    "5. _ _lt__ for <"
   ]
  },
  {
   "cell_type": "code",
   "execution_count": 18,
   "metadata": {},
   "outputs": [
    {
     "name": "stdout",
     "output_type": "stream",
     "text": [
      "(4, 6)\n"
     ]
    }
   ],
   "source": [
    "class Point:\n",
    "    def __init__(self, x=0, y=0):\n",
    "        self.x = x\n",
    "        self.y = y\n",
    "\n",
    "    def __add__(self, other):\n",
    "        return Point(self.x + other.x, self.y + other.y)\n",
    "\n",
    "    def __str__(self):\n",
    "        return f\"({self.x}, {self.y})\"\n",
    "\n",
    "p1 = Point(1, 2)\n",
    "p2 = Point(3, 4)\n",
    "p3 = p1 + p2\n",
    "\n",
    "print(p3)  # Output: (4, 6)\n"
   ]
  },
  {
   "cell_type": "code",
   "execution_count": 19,
   "metadata": {},
   "outputs": [
    {
     "name": "stdout",
     "output_type": "stream",
     "text": [
      "False\n",
      "True\n"
     ]
    }
   ],
   "source": [
    "# Here’s an example of overloading the < operator:\n",
    "class Person:\n",
    "    def __init__(self, name, age):\n",
    "        self.name = name\n",
    "        self.age = age\n",
    "\n",
    "    def __lt__(self, other):\n",
    "        return self.age < other.age\n",
    "\n",
    "p1 = Person(\"Alice\", 30)\n",
    "p2 = Person(\"Bob\", 25)\n",
    "\n",
    "print(p1 < p2)  # Output: False\n",
    "print(p2 < p1)  # Output: True\n"
   ]
  },
  {
   "cell_type": "markdown",
   "metadata": {},
   "source": [
    "### 11. What are some common design patterns used in Python OOP?\n",
    "\n",
    "##### Some common design patterns used in Python OOP include:\n",
    "\n",
    "##### 1. Singleton Pattern: Ensures that a class has only one instance and provides a global point of access to that instance.\n",
    "##### 2. Factory Method Pattern: Defines an interface for creating objects but allows subclasses to alter the type of objects that will be created.\n",
    "##### 3. Decorator Pattern: Allows behavior to be added to objects dynamically by wrapping them with additional functionality without modifying their structure.\n",
    "##### 4. Observer Pattern: Defines a one-to-many dependency between objects so that when one object changes state, all its dependents are notified and updated automatically.\n",
    "##### 5. Strategy Pattern: Defines a family of algorithms, encapsulates each one, and makes them interchangeable. It lets the algorithm vary independently from clients that use it.\n",
    "##### 6. Adapter Pattern: Allows objects with incompatible interfaces to collaborate by providing a wrapper that translates the interface of one class into another interface that a client expects.\n",
    "##### 7. Facade Pattern: Provides a unified interface to a set of interfaces in a subsystem, simplifying the usage and reducing dependencies between subsystems.\n",
    "##### 8. Iterator Pattern: Provides a way to access the elements of an aggregate object sequentially without exposing its underlying representation."
   ]
  }
 ],
 "metadata": {
  "kernelspec": {
   "display_name": "Python 3",
   "language": "python",
   "name": "python3"
  },
  "language_info": {
   "codemirror_mode": {
    "name": "ipython",
    "version": 3
   },
   "file_extension": ".py",
   "mimetype": "text/x-python",
   "name": "python",
   "nbconvert_exporter": "python",
   "pygments_lexer": "ipython3",
   "version": "3.11.1"
  }
 },
 "nbformat": 4,
 "nbformat_minor": 2
}
